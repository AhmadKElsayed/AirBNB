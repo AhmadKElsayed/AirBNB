{
 "cells": [
  {
   "cell_type": "code",
   "execution_count": 1,
   "id": "de3dc7cc",
   "metadata": {
    "execution": {
     "iopub.execute_input": "2025-04-17T16:44:20.615460Z",
     "iopub.status.busy": "2025-04-17T16:44:20.614963Z",
     "iopub.status.idle": "2025-04-17T16:44:20.624118Z",
     "shell.execute_reply": "2025-04-17T16:44:20.622658Z"
    },
    "papermill": {
     "duration": 0.024581,
     "end_time": "2025-04-17T16:44:20.625947",
     "exception": false,
     "start_time": "2025-04-17T16:44:20.601366",
     "status": "completed"
    },
    "tags": []
   },
   "outputs": [
    {
     "name": "stdout",
     "output_type": "stream",
     "text": [
      "/kaggle/input/airbnb-recruiting-new-user-bookings/sample_submission_NDF.csv.zip\n",
      "/kaggle/input/airbnb-recruiting-new-user-bookings/age_gender_bkts.csv.zip\n",
      "/kaggle/input/airbnb-recruiting-new-user-bookings/test_users.csv.zip\n",
      "/kaggle/input/airbnb-recruiting-new-user-bookings/countries.csv.zip\n",
      "/kaggle/input/airbnb-recruiting-new-user-bookings/sessions.csv.zip\n",
      "/kaggle/input/airbnb-recruiting-new-user-bookings/train_users_2.csv.zip\n"
     ]
    }
   ],
   "source": [
    "import os\n",
    "for dirname, _, filenames in os.walk('/kaggle/input'):\n",
    "    for filename in filenames:\n",
    "        print(os.path.join(dirname, filename))"
   ]
  },
  {
   "cell_type": "code",
   "execution_count": 2,
   "id": "6c08a806",
   "metadata": {
    "_cell_guid": "b1076dfc-b9ad-4769-8c92-a6c4dae69d19",
    "_uuid": "8f2839f25d086af736a60e9eeb907d3b93b6e0e5",
    "execution": {
     "iopub.execute_input": "2025-04-17T16:44:20.651241Z",
     "iopub.status.busy": "2025-04-17T16:44:20.650897Z",
     "iopub.status.idle": "2025-04-17T16:44:24.457792Z",
     "shell.execute_reply": "2025-04-17T16:44:24.456578Z"
    },
    "papermill": {
     "duration": 3.822345,
     "end_time": "2025-04-17T16:44:24.460198",
     "exception": false,
     "start_time": "2025-04-17T16:44:20.637853",
     "status": "completed"
    },
    "tags": []
   },
   "outputs": [],
   "source": [
    "import pandas as pd\n",
    "import numpy as np\n",
    "import matplotlib.pyplot as plt\n",
    "%matplotlib inline\n",
    "import seaborn as sns\n",
    "import datetime\n",
    "import warnings\n",
    "warnings.filterwarnings('ignore')\n",
    "import re\n",
    "from scipy.sparse import hstack\n",
    "from sklearn.feature_extraction.text import TfidfVectorizer\n",
    "\n",
    "#sklearn\n",
    "from sklearn.preprocessing import LabelEncoder, OneHotEncoder, LabelBinarizer\n",
    "from xgboost.sklearn import XGBClassifier\n",
    "from sklearn.metrics import accuracy_score, ndcg_score\n",
    "from sklearn.base import BaseEstimator, TransformerMixin\n",
    "from sklearn.ensemble import RandomForestClassifier\n",
    "from xgboost import plot_importance\n",
    "from sklearn.model_selection import train_test_split"
   ]
  },
  {
   "cell_type": "code",
   "execution_count": 3,
   "id": "7789fe44",
   "metadata": {
    "execution": {
     "iopub.execute_input": "2025-04-17T16:44:24.485134Z",
     "iopub.status.busy": "2025-04-17T16:44:24.484589Z",
     "iopub.status.idle": "2025-04-17T16:44:24.489409Z",
     "shell.execute_reply": "2025-04-17T16:44:24.488377Z"
    },
    "papermill": {
     "duration": 0.019155,
     "end_time": "2025-04-17T16:44:24.491103",
     "exception": false,
     "start_time": "2025-04-17T16:44:24.471948",
     "status": "completed"
    },
    "tags": []
   },
   "outputs": [],
   "source": [
    "import random\n",
    "\n",
    "# Set a fixed seed value\n",
    "SEED = 42\n",
    "\n",
    "# Set seeds for reproducibility\n",
    "random.seed(SEED)\n",
    "np.random.seed(SEED)"
   ]
  },
  {
   "cell_type": "markdown",
   "id": "d92b238f",
   "metadata": {
    "papermill": {
     "duration": 0.011528,
     "end_time": "2025-04-17T16:44:24.514393",
     "exception": false,
     "start_time": "2025-04-17T16:44:24.502865",
     "status": "completed"
    },
    "tags": []
   },
   "source": [
    "# Reading Files:"
   ]
  },
  {
   "cell_type": "code",
   "execution_count": 4,
   "id": "651ab876",
   "metadata": {
    "execution": {
     "iopub.execute_input": "2025-04-17T16:44:24.538800Z",
     "iopub.status.busy": "2025-04-17T16:44:24.538401Z",
     "iopub.status.idle": "2025-04-17T16:44:37.958035Z",
     "shell.execute_reply": "2025-04-17T16:44:37.956888Z"
    },
    "papermill": {
     "duration": 13.434353,
     "end_time": "2025-04-17T16:44:37.960048",
     "exception": false,
     "start_time": "2025-04-17T16:44:24.525695",
     "status": "completed"
    },
    "tags": []
   },
   "outputs": [],
   "source": [
    "df_train = pd.read_csv('../input/airbnb-recruiting-new-user-bookings/train_users_2.csv.zip')\n",
    "df_test = pd.read_csv('../input/airbnb-recruiting-new-user-bookings/test_users.csv.zip')\n",
    "countries = pd.read_csv('../input/airbnb-recruiting-new-user-bookings/countries.csv.zip')\n",
    "sessions = pd.read_csv('../input/airbnb-recruiting-new-user-bookings/sessions.csv.zip')\n",
    "age_gender = pd.read_csv('../input/airbnb-recruiting-new-user-bookings/age_gender_bkts.csv.zip')"
   ]
  },
  {
   "cell_type": "code",
   "execution_count": 5,
   "id": "d942807e",
   "metadata": {
    "execution": {
     "iopub.execute_input": "2025-04-17T16:44:37.984703Z",
     "iopub.status.busy": "2025-04-17T16:44:37.984348Z",
     "iopub.status.idle": "2025-04-17T16:44:38.017201Z",
     "shell.execute_reply": "2025-04-17T16:44:38.016023Z"
    },
    "papermill": {
     "duration": 0.047001,
     "end_time": "2025-04-17T16:44:38.019022",
     "exception": false,
     "start_time": "2025-04-17T16:44:37.972021",
     "status": "completed"
    },
    "tags": []
   },
   "outputs": [
    {
     "data": {
      "text/html": [
       "<div>\n",
       "<style scoped>\n",
       "    .dataframe tbody tr th:only-of-type {\n",
       "        vertical-align: middle;\n",
       "    }\n",
       "\n",
       "    .dataframe tbody tr th {\n",
       "        vertical-align: top;\n",
       "    }\n",
       "\n",
       "    .dataframe thead th {\n",
       "        text-align: right;\n",
       "    }\n",
       "</style>\n",
       "<table border=\"1\" class=\"dataframe\">\n",
       "  <thead>\n",
       "    <tr style=\"text-align: right;\">\n",
       "      <th></th>\n",
       "      <th>id</th>\n",
       "      <th>date_account_created</th>\n",
       "      <th>timestamp_first_active</th>\n",
       "      <th>date_first_booking</th>\n",
       "      <th>gender</th>\n",
       "      <th>age</th>\n",
       "      <th>signup_method</th>\n",
       "      <th>signup_flow</th>\n",
       "      <th>language</th>\n",
       "      <th>affiliate_channel</th>\n",
       "      <th>affiliate_provider</th>\n",
       "      <th>first_affiliate_tracked</th>\n",
       "      <th>signup_app</th>\n",
       "      <th>first_device_type</th>\n",
       "      <th>first_browser</th>\n",
       "      <th>country_destination</th>\n",
       "    </tr>\n",
       "  </thead>\n",
       "  <tbody>\n",
       "    <tr>\n",
       "      <th>0</th>\n",
       "      <td>gxn3p5htnn</td>\n",
       "      <td>2010-06-28</td>\n",
       "      <td>20090319043255</td>\n",
       "      <td>NaN</td>\n",
       "      <td>-unknown-</td>\n",
       "      <td>NaN</td>\n",
       "      <td>facebook</td>\n",
       "      <td>0</td>\n",
       "      <td>en</td>\n",
       "      <td>direct</td>\n",
       "      <td>direct</td>\n",
       "      <td>untracked</td>\n",
       "      <td>Web</td>\n",
       "      <td>Mac Desktop</td>\n",
       "      <td>Chrome</td>\n",
       "      <td>NDF</td>\n",
       "    </tr>\n",
       "    <tr>\n",
       "      <th>1</th>\n",
       "      <td>820tgsjxq7</td>\n",
       "      <td>2011-05-25</td>\n",
       "      <td>20090523174809</td>\n",
       "      <td>NaN</td>\n",
       "      <td>MALE</td>\n",
       "      <td>38.0</td>\n",
       "      <td>facebook</td>\n",
       "      <td>0</td>\n",
       "      <td>en</td>\n",
       "      <td>seo</td>\n",
       "      <td>google</td>\n",
       "      <td>untracked</td>\n",
       "      <td>Web</td>\n",
       "      <td>Mac Desktop</td>\n",
       "      <td>Chrome</td>\n",
       "      <td>NDF</td>\n",
       "    </tr>\n",
       "    <tr>\n",
       "      <th>2</th>\n",
       "      <td>4ft3gnwmtx</td>\n",
       "      <td>2010-09-28</td>\n",
       "      <td>20090609231247</td>\n",
       "      <td>2010-08-02</td>\n",
       "      <td>FEMALE</td>\n",
       "      <td>56.0</td>\n",
       "      <td>basic</td>\n",
       "      <td>3</td>\n",
       "      <td>en</td>\n",
       "      <td>direct</td>\n",
       "      <td>direct</td>\n",
       "      <td>untracked</td>\n",
       "      <td>Web</td>\n",
       "      <td>Windows Desktop</td>\n",
       "      <td>IE</td>\n",
       "      <td>US</td>\n",
       "    </tr>\n",
       "    <tr>\n",
       "      <th>3</th>\n",
       "      <td>bjjt8pjhuk</td>\n",
       "      <td>2011-12-05</td>\n",
       "      <td>20091031060129</td>\n",
       "      <td>2012-09-08</td>\n",
       "      <td>FEMALE</td>\n",
       "      <td>42.0</td>\n",
       "      <td>facebook</td>\n",
       "      <td>0</td>\n",
       "      <td>en</td>\n",
       "      <td>direct</td>\n",
       "      <td>direct</td>\n",
       "      <td>untracked</td>\n",
       "      <td>Web</td>\n",
       "      <td>Mac Desktop</td>\n",
       "      <td>Firefox</td>\n",
       "      <td>other</td>\n",
       "    </tr>\n",
       "    <tr>\n",
       "      <th>4</th>\n",
       "      <td>87mebub9p4</td>\n",
       "      <td>2010-09-14</td>\n",
       "      <td>20091208061105</td>\n",
       "      <td>2010-02-18</td>\n",
       "      <td>-unknown-</td>\n",
       "      <td>41.0</td>\n",
       "      <td>basic</td>\n",
       "      <td>0</td>\n",
       "      <td>en</td>\n",
       "      <td>direct</td>\n",
       "      <td>direct</td>\n",
       "      <td>untracked</td>\n",
       "      <td>Web</td>\n",
       "      <td>Mac Desktop</td>\n",
       "      <td>Chrome</td>\n",
       "      <td>US</td>\n",
       "    </tr>\n",
       "  </tbody>\n",
       "</table>\n",
       "</div>"
      ],
      "text/plain": [
       "           id date_account_created  timestamp_first_active date_first_booking  \\\n",
       "0  gxn3p5htnn           2010-06-28          20090319043255                NaN   \n",
       "1  820tgsjxq7           2011-05-25          20090523174809                NaN   \n",
       "2  4ft3gnwmtx           2010-09-28          20090609231247         2010-08-02   \n",
       "3  bjjt8pjhuk           2011-12-05          20091031060129         2012-09-08   \n",
       "4  87mebub9p4           2010-09-14          20091208061105         2010-02-18   \n",
       "\n",
       "      gender   age signup_method  signup_flow language affiliate_channel  \\\n",
       "0  -unknown-   NaN      facebook            0       en            direct   \n",
       "1       MALE  38.0      facebook            0       en               seo   \n",
       "2     FEMALE  56.0         basic            3       en            direct   \n",
       "3     FEMALE  42.0      facebook            0       en            direct   \n",
       "4  -unknown-  41.0         basic            0       en            direct   \n",
       "\n",
       "  affiliate_provider first_affiliate_tracked signup_app first_device_type  \\\n",
       "0             direct               untracked        Web       Mac Desktop   \n",
       "1             google               untracked        Web       Mac Desktop   \n",
       "2             direct               untracked        Web   Windows Desktop   \n",
       "3             direct               untracked        Web       Mac Desktop   \n",
       "4             direct               untracked        Web       Mac Desktop   \n",
       "\n",
       "  first_browser country_destination  \n",
       "0        Chrome                 NDF  \n",
       "1        Chrome                 NDF  \n",
       "2            IE                  US  \n",
       "3       Firefox               other  \n",
       "4        Chrome                  US  "
      ]
     },
     "execution_count": 5,
     "metadata": {},
     "output_type": "execute_result"
    }
   ],
   "source": [
    "df_train.head()"
   ]
  },
  {
   "cell_type": "code",
   "execution_count": 6,
   "id": "93cc8bf3",
   "metadata": {
    "execution": {
     "iopub.execute_input": "2025-04-17T16:44:38.043832Z",
     "iopub.status.busy": "2025-04-17T16:44:38.043451Z",
     "iopub.status.idle": "2025-04-17T16:44:38.062233Z",
     "shell.execute_reply": "2025-04-17T16:44:38.061001Z"
    },
    "papermill": {
     "duration": 0.033218,
     "end_time": "2025-04-17T16:44:38.064039",
     "exception": false,
     "start_time": "2025-04-17T16:44:38.030821",
     "status": "completed"
    },
    "tags": []
   },
   "outputs": [
    {
     "data": {
      "text/html": [
       "<div>\n",
       "<style scoped>\n",
       "    .dataframe tbody tr th:only-of-type {\n",
       "        vertical-align: middle;\n",
       "    }\n",
       "\n",
       "    .dataframe tbody tr th {\n",
       "        vertical-align: top;\n",
       "    }\n",
       "\n",
       "    .dataframe thead th {\n",
       "        text-align: right;\n",
       "    }\n",
       "</style>\n",
       "<table border=\"1\" class=\"dataframe\">\n",
       "  <thead>\n",
       "    <tr style=\"text-align: right;\">\n",
       "      <th></th>\n",
       "      <th>id</th>\n",
       "      <th>date_account_created</th>\n",
       "      <th>timestamp_first_active</th>\n",
       "      <th>date_first_booking</th>\n",
       "      <th>gender</th>\n",
       "      <th>age</th>\n",
       "      <th>signup_method</th>\n",
       "      <th>signup_flow</th>\n",
       "      <th>language</th>\n",
       "      <th>affiliate_channel</th>\n",
       "      <th>affiliate_provider</th>\n",
       "      <th>first_affiliate_tracked</th>\n",
       "      <th>signup_app</th>\n",
       "      <th>first_device_type</th>\n",
       "      <th>first_browser</th>\n",
       "    </tr>\n",
       "  </thead>\n",
       "  <tbody>\n",
       "    <tr>\n",
       "      <th>0</th>\n",
       "      <td>5uwns89zht</td>\n",
       "      <td>2014-07-01</td>\n",
       "      <td>20140701000006</td>\n",
       "      <td>NaN</td>\n",
       "      <td>FEMALE</td>\n",
       "      <td>35.0</td>\n",
       "      <td>facebook</td>\n",
       "      <td>0</td>\n",
       "      <td>en</td>\n",
       "      <td>direct</td>\n",
       "      <td>direct</td>\n",
       "      <td>untracked</td>\n",
       "      <td>Moweb</td>\n",
       "      <td>iPhone</td>\n",
       "      <td>Mobile Safari</td>\n",
       "    </tr>\n",
       "    <tr>\n",
       "      <th>1</th>\n",
       "      <td>jtl0dijy2j</td>\n",
       "      <td>2014-07-01</td>\n",
       "      <td>20140701000051</td>\n",
       "      <td>NaN</td>\n",
       "      <td>-unknown-</td>\n",
       "      <td>NaN</td>\n",
       "      <td>basic</td>\n",
       "      <td>0</td>\n",
       "      <td>en</td>\n",
       "      <td>direct</td>\n",
       "      <td>direct</td>\n",
       "      <td>untracked</td>\n",
       "      <td>Moweb</td>\n",
       "      <td>iPhone</td>\n",
       "      <td>Mobile Safari</td>\n",
       "    </tr>\n",
       "    <tr>\n",
       "      <th>2</th>\n",
       "      <td>xx0ulgorjt</td>\n",
       "      <td>2014-07-01</td>\n",
       "      <td>20140701000148</td>\n",
       "      <td>NaN</td>\n",
       "      <td>-unknown-</td>\n",
       "      <td>NaN</td>\n",
       "      <td>basic</td>\n",
       "      <td>0</td>\n",
       "      <td>en</td>\n",
       "      <td>direct</td>\n",
       "      <td>direct</td>\n",
       "      <td>linked</td>\n",
       "      <td>Web</td>\n",
       "      <td>Windows Desktop</td>\n",
       "      <td>Chrome</td>\n",
       "    </tr>\n",
       "    <tr>\n",
       "      <th>3</th>\n",
       "      <td>6c6puo6ix0</td>\n",
       "      <td>2014-07-01</td>\n",
       "      <td>20140701000215</td>\n",
       "      <td>NaN</td>\n",
       "      <td>-unknown-</td>\n",
       "      <td>NaN</td>\n",
       "      <td>basic</td>\n",
       "      <td>0</td>\n",
       "      <td>en</td>\n",
       "      <td>direct</td>\n",
       "      <td>direct</td>\n",
       "      <td>linked</td>\n",
       "      <td>Web</td>\n",
       "      <td>Windows Desktop</td>\n",
       "      <td>IE</td>\n",
       "    </tr>\n",
       "    <tr>\n",
       "      <th>4</th>\n",
       "      <td>czqhjk3yfe</td>\n",
       "      <td>2014-07-01</td>\n",
       "      <td>20140701000305</td>\n",
       "      <td>NaN</td>\n",
       "      <td>-unknown-</td>\n",
       "      <td>NaN</td>\n",
       "      <td>basic</td>\n",
       "      <td>0</td>\n",
       "      <td>en</td>\n",
       "      <td>direct</td>\n",
       "      <td>direct</td>\n",
       "      <td>untracked</td>\n",
       "      <td>Web</td>\n",
       "      <td>Mac Desktop</td>\n",
       "      <td>Safari</td>\n",
       "    </tr>\n",
       "  </tbody>\n",
       "</table>\n",
       "</div>"
      ],
      "text/plain": [
       "           id date_account_created  timestamp_first_active  \\\n",
       "0  5uwns89zht           2014-07-01          20140701000006   \n",
       "1  jtl0dijy2j           2014-07-01          20140701000051   \n",
       "2  xx0ulgorjt           2014-07-01          20140701000148   \n",
       "3  6c6puo6ix0           2014-07-01          20140701000215   \n",
       "4  czqhjk3yfe           2014-07-01          20140701000305   \n",
       "\n",
       "   date_first_booking     gender   age signup_method  signup_flow language  \\\n",
       "0                 NaN     FEMALE  35.0      facebook            0       en   \n",
       "1                 NaN  -unknown-   NaN         basic            0       en   \n",
       "2                 NaN  -unknown-   NaN         basic            0       en   \n",
       "3                 NaN  -unknown-   NaN         basic            0       en   \n",
       "4                 NaN  -unknown-   NaN         basic            0       en   \n",
       "\n",
       "  affiliate_channel affiliate_provider first_affiliate_tracked signup_app  \\\n",
       "0            direct             direct               untracked      Moweb   \n",
       "1            direct             direct               untracked      Moweb   \n",
       "2            direct             direct                  linked        Web   \n",
       "3            direct             direct                  linked        Web   \n",
       "4            direct             direct               untracked        Web   \n",
       "\n",
       "  first_device_type  first_browser  \n",
       "0            iPhone  Mobile Safari  \n",
       "1            iPhone  Mobile Safari  \n",
       "2   Windows Desktop         Chrome  \n",
       "3   Windows Desktop             IE  \n",
       "4       Mac Desktop         Safari  "
      ]
     },
     "execution_count": 6,
     "metadata": {},
     "output_type": "execute_result"
    }
   ],
   "source": [
    "df_test.head()"
   ]
  },
  {
   "cell_type": "code",
   "execution_count": 7,
   "id": "c14eba88",
   "metadata": {
    "execution": {
     "iopub.execute_input": "2025-04-17T16:44:38.090039Z",
     "iopub.status.busy": "2025-04-17T16:44:38.089645Z",
     "iopub.status.idle": "2025-04-17T16:44:38.101671Z",
     "shell.execute_reply": "2025-04-17T16:44:38.100610Z"
    },
    "papermill": {
     "duration": 0.02706,
     "end_time": "2025-04-17T16:44:38.103389",
     "exception": false,
     "start_time": "2025-04-17T16:44:38.076329",
     "status": "completed"
    },
    "tags": []
   },
   "outputs": [
    {
     "data": {
      "text/html": [
       "<div>\n",
       "<style scoped>\n",
       "    .dataframe tbody tr th:only-of-type {\n",
       "        vertical-align: middle;\n",
       "    }\n",
       "\n",
       "    .dataframe tbody tr th {\n",
       "        vertical-align: top;\n",
       "    }\n",
       "\n",
       "    .dataframe thead th {\n",
       "        text-align: right;\n",
       "    }\n",
       "</style>\n",
       "<table border=\"1\" class=\"dataframe\">\n",
       "  <thead>\n",
       "    <tr style=\"text-align: right;\">\n",
       "      <th></th>\n",
       "      <th>user_id</th>\n",
       "      <th>action</th>\n",
       "      <th>action_type</th>\n",
       "      <th>action_detail</th>\n",
       "      <th>device_type</th>\n",
       "      <th>secs_elapsed</th>\n",
       "    </tr>\n",
       "  </thead>\n",
       "  <tbody>\n",
       "    <tr>\n",
       "      <th>0</th>\n",
       "      <td>d1mm9tcy42</td>\n",
       "      <td>lookup</td>\n",
       "      <td>NaN</td>\n",
       "      <td>NaN</td>\n",
       "      <td>Windows Desktop</td>\n",
       "      <td>319.0</td>\n",
       "    </tr>\n",
       "    <tr>\n",
       "      <th>1</th>\n",
       "      <td>d1mm9tcy42</td>\n",
       "      <td>search_results</td>\n",
       "      <td>click</td>\n",
       "      <td>view_search_results</td>\n",
       "      <td>Windows Desktop</td>\n",
       "      <td>67753.0</td>\n",
       "    </tr>\n",
       "    <tr>\n",
       "      <th>2</th>\n",
       "      <td>d1mm9tcy42</td>\n",
       "      <td>lookup</td>\n",
       "      <td>NaN</td>\n",
       "      <td>NaN</td>\n",
       "      <td>Windows Desktop</td>\n",
       "      <td>301.0</td>\n",
       "    </tr>\n",
       "    <tr>\n",
       "      <th>3</th>\n",
       "      <td>d1mm9tcy42</td>\n",
       "      <td>search_results</td>\n",
       "      <td>click</td>\n",
       "      <td>view_search_results</td>\n",
       "      <td>Windows Desktop</td>\n",
       "      <td>22141.0</td>\n",
       "    </tr>\n",
       "    <tr>\n",
       "      <th>4</th>\n",
       "      <td>d1mm9tcy42</td>\n",
       "      <td>lookup</td>\n",
       "      <td>NaN</td>\n",
       "      <td>NaN</td>\n",
       "      <td>Windows Desktop</td>\n",
       "      <td>435.0</td>\n",
       "    </tr>\n",
       "  </tbody>\n",
       "</table>\n",
       "</div>"
      ],
      "text/plain": [
       "      user_id          action action_type        action_detail  \\\n",
       "0  d1mm9tcy42          lookup         NaN                  NaN   \n",
       "1  d1mm9tcy42  search_results       click  view_search_results   \n",
       "2  d1mm9tcy42          lookup         NaN                  NaN   \n",
       "3  d1mm9tcy42  search_results       click  view_search_results   \n",
       "4  d1mm9tcy42          lookup         NaN                  NaN   \n",
       "\n",
       "       device_type  secs_elapsed  \n",
       "0  Windows Desktop         319.0  \n",
       "1  Windows Desktop       67753.0  \n",
       "2  Windows Desktop         301.0  \n",
       "3  Windows Desktop       22141.0  \n",
       "4  Windows Desktop         435.0  "
      ]
     },
     "execution_count": 7,
     "metadata": {},
     "output_type": "execute_result"
    }
   ],
   "source": [
    "sessions.head()"
   ]
  },
  {
   "cell_type": "markdown",
   "id": "8522055d",
   "metadata": {
    "papermill": {
     "duration": 0.01188,
     "end_time": "2025-04-17T16:44:38.127614",
     "exception": false,
     "start_time": "2025-04-17T16:44:38.115734",
     "status": "completed"
    },
    "tags": []
   },
   "source": [
    "# EDA:"
   ]
  },
  {
   "cell_type": "code",
   "execution_count": 8,
   "id": "0d4e5d12",
   "metadata": {
    "execution": {
     "iopub.execute_input": "2025-04-17T16:44:38.153006Z",
     "iopub.status.busy": "2025-04-17T16:44:38.152650Z",
     "iopub.status.idle": "2025-04-17T16:44:38.201801Z",
     "shell.execute_reply": "2025-04-17T16:44:38.200765Z"
    },
    "papermill": {
     "duration": 0.063887,
     "end_time": "2025-04-17T16:44:38.203711",
     "exception": false,
     "start_time": "2025-04-17T16:44:38.139824",
     "status": "completed"
    },
    "tags": []
   },
   "outputs": [
    {
     "data": {
      "text/html": [
       "<div>\n",
       "<style scoped>\n",
       "    .dataframe tbody tr th:only-of-type {\n",
       "        vertical-align: middle;\n",
       "    }\n",
       "\n",
       "    .dataframe tbody tr th {\n",
       "        vertical-align: top;\n",
       "    }\n",
       "\n",
       "    .dataframe thead th {\n",
       "        text-align: right;\n",
       "    }\n",
       "</style>\n",
       "<table border=\"1\" class=\"dataframe\">\n",
       "  <thead>\n",
       "    <tr style=\"text-align: right;\">\n",
       "      <th></th>\n",
       "      <th>timestamp_first_active</th>\n",
       "      <th>age</th>\n",
       "      <th>signup_flow</th>\n",
       "    </tr>\n",
       "  </thead>\n",
       "  <tbody>\n",
       "    <tr>\n",
       "      <th>count</th>\n",
       "      <td>2.134510e+05</td>\n",
       "      <td>125461.000000</td>\n",
       "      <td>213451.000000</td>\n",
       "    </tr>\n",
       "    <tr>\n",
       "      <th>mean</th>\n",
       "      <td>2.013085e+13</td>\n",
       "      <td>49.668335</td>\n",
       "      <td>3.267387</td>\n",
       "    </tr>\n",
       "    <tr>\n",
       "      <th>std</th>\n",
       "      <td>9.253717e+09</td>\n",
       "      <td>155.666612</td>\n",
       "      <td>7.637707</td>\n",
       "    </tr>\n",
       "    <tr>\n",
       "      <th>min</th>\n",
       "      <td>2.009032e+13</td>\n",
       "      <td>1.000000</td>\n",
       "      <td>0.000000</td>\n",
       "    </tr>\n",
       "    <tr>\n",
       "      <th>25%</th>\n",
       "      <td>2.012123e+13</td>\n",
       "      <td>28.000000</td>\n",
       "      <td>0.000000</td>\n",
       "    </tr>\n",
       "    <tr>\n",
       "      <th>50%</th>\n",
       "      <td>2.013091e+13</td>\n",
       "      <td>34.000000</td>\n",
       "      <td>0.000000</td>\n",
       "    </tr>\n",
       "    <tr>\n",
       "      <th>75%</th>\n",
       "      <td>2.014031e+13</td>\n",
       "      <td>43.000000</td>\n",
       "      <td>0.000000</td>\n",
       "    </tr>\n",
       "    <tr>\n",
       "      <th>max</th>\n",
       "      <td>2.014063e+13</td>\n",
       "      <td>2014.000000</td>\n",
       "      <td>25.000000</td>\n",
       "    </tr>\n",
       "  </tbody>\n",
       "</table>\n",
       "</div>"
      ],
      "text/plain": [
       "       timestamp_first_active            age    signup_flow\n",
       "count            2.134510e+05  125461.000000  213451.000000\n",
       "mean             2.013085e+13      49.668335       3.267387\n",
       "std              9.253717e+09     155.666612       7.637707\n",
       "min              2.009032e+13       1.000000       0.000000\n",
       "25%              2.012123e+13      28.000000       0.000000\n",
       "50%              2.013091e+13      34.000000       0.000000\n",
       "75%              2.014031e+13      43.000000       0.000000\n",
       "max              2.014063e+13    2014.000000      25.000000"
      ]
     },
     "execution_count": 8,
     "metadata": {},
     "output_type": "execute_result"
    }
   ],
   "source": [
    "df_train.describe()"
   ]
  },
  {
   "cell_type": "code",
   "execution_count": 9,
   "id": "c98cd8e6",
   "metadata": {
    "execution": {
     "iopub.execute_input": "2025-04-17T16:44:38.229537Z",
     "iopub.status.busy": "2025-04-17T16:44:38.229144Z",
     "iopub.status.idle": "2025-04-17T16:44:38.387842Z",
     "shell.execute_reply": "2025-04-17T16:44:38.386574Z"
    },
    "papermill": {
     "duration": 0.173408,
     "end_time": "2025-04-17T16:44:38.389585",
     "exception": false,
     "start_time": "2025-04-17T16:44:38.216177",
     "status": "completed"
    },
    "tags": []
   },
   "outputs": [
    {
     "name": "stdout",
     "output_type": "stream",
     "text": [
      "<class 'pandas.core.frame.DataFrame'>\n",
      "RangeIndex: 213451 entries, 0 to 213450\n",
      "Data columns (total 16 columns):\n",
      " #   Column                   Non-Null Count   Dtype  \n",
      "---  ------                   --------------   -----  \n",
      " 0   id                       213451 non-null  object \n",
      " 1   date_account_created     213451 non-null  object \n",
      " 2   timestamp_first_active   213451 non-null  int64  \n",
      " 3   date_first_booking       88908 non-null   object \n",
      " 4   gender                   213451 non-null  object \n",
      " 5   age                      125461 non-null  float64\n",
      " 6   signup_method            213451 non-null  object \n",
      " 7   signup_flow              213451 non-null  int64  \n",
      " 8   language                 213451 non-null  object \n",
      " 9   affiliate_channel        213451 non-null  object \n",
      " 10  affiliate_provider       213451 non-null  object \n",
      " 11  first_affiliate_tracked  207386 non-null  object \n",
      " 12  signup_app               213451 non-null  object \n",
      " 13  first_device_type        213451 non-null  object \n",
      " 14  first_browser            213451 non-null  object \n",
      " 15  country_destination      213451 non-null  object \n",
      "dtypes: float64(1), int64(2), object(13)\n",
      "memory usage: 26.1+ MB\n"
     ]
    }
   ],
   "source": [
    "df_train.info()"
   ]
  },
  {
   "cell_type": "code",
   "execution_count": 10,
   "id": "66464e76",
   "metadata": {
    "execution": {
     "iopub.execute_input": "2025-04-17T16:44:38.415507Z",
     "iopub.status.busy": "2025-04-17T16:44:38.415113Z",
     "iopub.status.idle": "2025-04-17T16:44:38.461009Z",
     "shell.execute_reply": "2025-04-17T16:44:38.459740Z"
    },
    "papermill": {
     "duration": 0.060951,
     "end_time": "2025-04-17T16:44:38.462856",
     "exception": false,
     "start_time": "2025-04-17T16:44:38.401905",
     "status": "completed"
    },
    "tags": []
   },
   "outputs": [
    {
     "name": "stdout",
     "output_type": "stream",
     "text": [
      "<class 'pandas.core.frame.DataFrame'>\n",
      "RangeIndex: 62096 entries, 0 to 62095\n",
      "Data columns (total 15 columns):\n",
      " #   Column                   Non-Null Count  Dtype  \n",
      "---  ------                   --------------  -----  \n",
      " 0   id                       62096 non-null  object \n",
      " 1   date_account_created     62096 non-null  object \n",
      " 2   timestamp_first_active   62096 non-null  int64  \n",
      " 3   date_first_booking       0 non-null      float64\n",
      " 4   gender                   62096 non-null  object \n",
      " 5   age                      33220 non-null  float64\n",
      " 6   signup_method            62096 non-null  object \n",
      " 7   signup_flow              62096 non-null  int64  \n",
      " 8   language                 62096 non-null  object \n",
      " 9   affiliate_channel        62096 non-null  object \n",
      " 10  affiliate_provider       62096 non-null  object \n",
      " 11  first_affiliate_tracked  62076 non-null  object \n",
      " 12  signup_app               62096 non-null  object \n",
      " 13  first_device_type        62096 non-null  object \n",
      " 14  first_browser            62096 non-null  object \n",
      "dtypes: float64(2), int64(2), object(11)\n",
      "memory usage: 7.1+ MB\n"
     ]
    }
   ],
   "source": [
    "df_test.info()"
   ]
  },
  {
   "cell_type": "code",
   "execution_count": 11,
   "id": "76ac491e",
   "metadata": {
    "execution": {
     "iopub.execute_input": "2025-04-17T16:44:38.489784Z",
     "iopub.status.busy": "2025-04-17T16:44:38.489439Z",
     "iopub.status.idle": "2025-04-17T16:44:38.628696Z",
     "shell.execute_reply": "2025-04-17T16:44:38.627546Z"
    },
    "papermill": {
     "duration": 0.154578,
     "end_time": "2025-04-17T16:44:38.630488",
     "exception": false,
     "start_time": "2025-04-17T16:44:38.475910",
     "status": "completed"
    },
    "tags": []
   },
   "outputs": [
    {
     "data": {
      "text/plain": [
       "id                              0\n",
       "date_account_created            0\n",
       "timestamp_first_active          0\n",
       "date_first_booking         124543\n",
       "gender                          0\n",
       "age                         87990\n",
       "signup_method                   0\n",
       "signup_flow                     0\n",
       "language                        0\n",
       "affiliate_channel               0\n",
       "affiliate_provider              0\n",
       "first_affiliate_tracked      6065\n",
       "signup_app                      0\n",
       "first_device_type               0\n",
       "first_browser                   0\n",
       "country_destination             0\n",
       "dtype: int64"
      ]
     },
     "execution_count": 11,
     "metadata": {},
     "output_type": "execute_result"
    }
   ],
   "source": [
    "df_train.isna().sum()"
   ]
  },
  {
   "cell_type": "code",
   "execution_count": 12,
   "id": "b37b5720",
   "metadata": {
    "execution": {
     "iopub.execute_input": "2025-04-17T16:44:38.657210Z",
     "iopub.status.busy": "2025-04-17T16:44:38.656881Z",
     "iopub.status.idle": "2025-04-17T16:44:38.699002Z",
     "shell.execute_reply": "2025-04-17T16:44:38.697817Z"
    },
    "papermill": {
     "duration": 0.057667,
     "end_time": "2025-04-17T16:44:38.700864",
     "exception": false,
     "start_time": "2025-04-17T16:44:38.643197",
     "status": "completed"
    },
    "tags": []
   },
   "outputs": [
    {
     "data": {
      "text/plain": [
       "id                             0\n",
       "date_account_created           0\n",
       "timestamp_first_active         0\n",
       "date_first_booking         62096\n",
       "gender                         0\n",
       "age                        28876\n",
       "signup_method                  0\n",
       "signup_flow                    0\n",
       "language                       0\n",
       "affiliate_channel              0\n",
       "affiliate_provider             0\n",
       "first_affiliate_tracked       20\n",
       "signup_app                     0\n",
       "first_device_type              0\n",
       "first_browser                  0\n",
       "dtype: int64"
      ]
     },
     "execution_count": 12,
     "metadata": {},
     "output_type": "execute_result"
    }
   ],
   "source": [
    "df_test.isna().sum()"
   ]
  },
  {
   "cell_type": "code",
   "execution_count": 13,
   "id": "74dccc83",
   "metadata": {
    "execution": {
     "iopub.execute_input": "2025-04-17T16:44:38.729222Z",
     "iopub.status.busy": "2025-04-17T16:44:38.728841Z",
     "iopub.status.idle": "2025-04-17T16:44:38.755434Z",
     "shell.execute_reply": "2025-04-17T16:44:38.753727Z"
    },
    "papermill": {
     "duration": 0.042991,
     "end_time": "2025-04-17T16:44:38.757709",
     "exception": false,
     "start_time": "2025-04-17T16:44:38.714718",
     "status": "completed"
    },
    "tags": []
   },
   "outputs": [
    {
     "data": {
      "text/plain": [
       "1335"
      ]
     },
     "execution_count": 13,
     "metadata": {},
     "output_type": "execute_result"
    }
   ],
   "source": [
    "df_train[(df_train['age'] >= 100) | (df_train['age'] <= 13)].value_counts().sum()"
   ]
  },
  {
   "cell_type": "code",
   "execution_count": 14,
   "id": "1b3ac4ea",
   "metadata": {
    "execution": {
     "iopub.execute_input": "2025-04-17T16:44:38.785699Z",
     "iopub.status.busy": "2025-04-17T16:44:38.785316Z",
     "iopub.status.idle": "2025-04-17T16:44:38.799531Z",
     "shell.execute_reply": "2025-04-17T16:44:38.798393Z"
    },
    "papermill": {
     "duration": 0.030745,
     "end_time": "2025-04-17T16:44:38.801652",
     "exception": false,
     "start_time": "2025-04-17T16:44:38.770907",
     "status": "completed"
    },
    "tags": []
   },
   "outputs": [
    {
     "data": {
      "text/plain": [
       "0"
      ]
     },
     "execution_count": 14,
     "metadata": {},
     "output_type": "execute_result"
    }
   ],
   "source": [
    "df_test[(df_test['age'] >= 100) | (df_test['age'] <= 13)].value_counts().sum()"
   ]
  },
  {
   "cell_type": "markdown",
   "id": "faf7575a",
   "metadata": {
    "papermill": {
     "duration": 0.012596,
     "end_time": "2025-04-17T16:44:38.827848",
     "exception": false,
     "start_time": "2025-04-17T16:44:38.815252",
     "status": "completed"
    },
    "tags": []
   },
   "source": [
    "# Preprocessing:"
   ]
  },
  {
   "cell_type": "markdown",
   "id": "640c6c28",
   "metadata": {
    "papermill": {
     "duration": 0.012719,
     "end_time": "2025-04-17T16:44:38.853814",
     "exception": false,
     "start_time": "2025-04-17T16:44:38.841095",
     "status": "completed"
    },
    "tags": []
   },
   "source": [
    "## Dates:"
   ]
  },
  {
   "cell_type": "code",
   "execution_count": 15,
   "id": "876962b4",
   "metadata": {
    "execution": {
     "iopub.execute_input": "2025-04-17T16:44:38.880929Z",
     "iopub.status.busy": "2025-04-17T16:44:38.880570Z",
     "iopub.status.idle": "2025-04-17T16:44:38.886465Z",
     "shell.execute_reply": "2025-04-17T16:44:38.885151Z"
    },
    "papermill": {
     "duration": 0.021804,
     "end_time": "2025-04-17T16:44:38.888519",
     "exception": false,
     "start_time": "2025-04-17T16:44:38.866715",
     "status": "completed"
    },
    "tags": []
   },
   "outputs": [],
   "source": [
    "def extract_date_features(df, column_name, prefix):\n",
    "    \"\"\"\n",
    "    Extracts year, month, and day features from a date column and drops the original column.\n",
    "    \n",
    "    Parameters:\n",
    "        df (pd.DataFrame): The DataFrame containing the date column.\n",
    "        column_name (str): The name of the date column to process.\n",
    "        prefix (str): The prefix for the new feature columns.\n",
    "    \n",
    "    Returns:\n",
    "        pd.DataFrame: DataFrame with extracted date features.\n",
    "    \"\"\"\n",
    "    df[column_name] = pd.to_datetime(df[column_name], format='%Y-%m-%d', errors='coerce')\n",
    "    df[f'{prefix}_year'] = df[column_name].dt.year\n",
    "    df[f'{prefix}_month'] = df[column_name].dt.month\n",
    "    df[f'{prefix}_day'] = df[column_name].dt.day\n",
    "    return df.drop(columns=[column_name])\n"
   ]
  },
  {
   "cell_type": "code",
   "execution_count": 16,
   "id": "d68f91f3",
   "metadata": {
    "execution": {
     "iopub.execute_input": "2025-04-17T16:44:38.915598Z",
     "iopub.status.busy": "2025-04-17T16:44:38.915216Z",
     "iopub.status.idle": "2025-04-17T16:44:39.009041Z",
     "shell.execute_reply": "2025-04-17T16:44:39.007896Z"
    },
    "papermill": {
     "duration": 0.109521,
     "end_time": "2025-04-17T16:44:39.011087",
     "exception": false,
     "start_time": "2025-04-17T16:44:38.901566",
     "status": "completed"
    },
    "tags": []
   },
   "outputs": [],
   "source": [
    "df_train = extract_date_features(df_train, 'date_account_created', 'dac')\n",
    "df_test = extract_date_features(df_test, 'date_account_created', 'dac')\n"
   ]
  },
  {
   "cell_type": "code",
   "execution_count": 17,
   "id": "65ac47f6",
   "metadata": {
    "execution": {
     "iopub.execute_input": "2025-04-17T16:44:39.039067Z",
     "iopub.status.busy": "2025-04-17T16:44:39.038719Z",
     "iopub.status.idle": "2025-04-17T16:44:39.078273Z",
     "shell.execute_reply": "2025-04-17T16:44:39.077238Z"
    },
    "papermill": {
     "duration": 0.056278,
     "end_time": "2025-04-17T16:44:39.080388",
     "exception": false,
     "start_time": "2025-04-17T16:44:39.024110",
     "status": "completed"
    },
    "tags": []
   },
   "outputs": [],
   "source": [
    "df_train.drop('date_first_booking', inplace = True, axis = 1)\n",
    "df_test.drop('date_first_booking', inplace = True, axis = 1)"
   ]
  },
  {
   "cell_type": "code",
   "execution_count": 18,
   "id": "8f5b9bfa",
   "metadata": {
    "execution": {
     "iopub.execute_input": "2025-04-17T16:44:39.107454Z",
     "iopub.status.busy": "2025-04-17T16:44:39.107024Z",
     "iopub.status.idle": "2025-04-17T16:44:39.113589Z",
     "shell.execute_reply": "2025-04-17T16:44:39.112483Z"
    },
    "papermill": {
     "duration": 0.022144,
     "end_time": "2025-04-17T16:44:39.115461",
     "exception": false,
     "start_time": "2025-04-17T16:44:39.093317",
     "status": "completed"
    },
    "tags": []
   },
   "outputs": [],
   "source": [
    "def extract_timestamp_features(df, column_name):\n",
    "    \"\"\"\n",
    "    Extracts year, month, day, hour, minute, and second from a timestamp column.\n",
    "    \n",
    "    Parameters:\n",
    "        df (pd.DataFrame): DataFrame containing the timestamp column.\n",
    "        column_name (str): Name of the timestamp column to process.\n",
    "    \n",
    "    Returns:\n",
    "        pd.DataFrame: DataFrame with extracted features.\n",
    "    \"\"\"\n",
    "    # Ensure the column is a string\n",
    "    df[column_name] = df[column_name].astype(str)\n",
    "    \n",
    "    # Extract features\n",
    "    df[f'{column_name}_year'] = df[column_name].str[:4].astype(int)\n",
    "    df[f'{column_name}_month'] = df[column_name].str[4:6].astype(int)\n",
    "    df[f'{column_name}_day'] = df[column_name].str[6:8].astype(int)\n",
    "    df[f'{column_name}_hour'] = df[column_name].str[8:10].astype(int)\n",
    "    df[f'{column_name}_minute'] = df[column_name].str[10:12].astype(int)\n",
    "    df[f'{column_name}_second'] = df[column_name].str[12:14].astype(int)\n",
    "    \n",
    "    # Optionally, drop the original timestamp column\n",
    "    df = df.drop([column_name], axis=1)\n",
    "    \n",
    "    return df"
   ]
  },
  {
   "cell_type": "code",
   "execution_count": 19,
   "id": "7a8f2e80",
   "metadata": {
    "execution": {
     "iopub.execute_input": "2025-04-17T16:44:39.143106Z",
     "iopub.status.busy": "2025-04-17T16:44:39.142733Z",
     "iopub.status.idle": "2025-04-17T16:44:39.779558Z",
     "shell.execute_reply": "2025-04-17T16:44:39.778403Z"
    },
    "papermill": {
     "duration": 0.652882,
     "end_time": "2025-04-17T16:44:39.781805",
     "exception": false,
     "start_time": "2025-04-17T16:44:39.128923",
     "status": "completed"
    },
    "tags": []
   },
   "outputs": [],
   "source": [
    "df_train = extract_timestamp_features(df_train, 'timestamp_first_active')\n",
    "df_test = extract_timestamp_features(df_test, 'timestamp_first_active')"
   ]
  },
  {
   "cell_type": "markdown",
   "id": "86b44bc3",
   "metadata": {
    "papermill": {
     "duration": 0.013273,
     "end_time": "2025-04-17T16:44:39.808808",
     "exception": false,
     "start_time": "2025-04-17T16:44:39.795535",
     "status": "completed"
    },
    "tags": []
   },
   "source": [
    "## Sessions:"
   ]
  },
  {
   "cell_type": "code",
   "execution_count": 20,
   "id": "90ee0980",
   "metadata": {
    "execution": {
     "iopub.execute_input": "2025-04-17T16:44:39.835875Z",
     "iopub.status.busy": "2025-04-17T16:44:39.835517Z",
     "iopub.status.idle": "2025-04-17T16:44:55.738371Z",
     "shell.execute_reply": "2025-04-17T16:44:55.737329Z"
    },
    "papermill": {
     "duration": 15.918778,
     "end_time": "2025-04-17T16:44:55.740411",
     "exception": false,
     "start_time": "2025-04-17T16:44:39.821633",
     "status": "completed"
    },
    "tags": []
   },
   "outputs": [],
   "source": [
    "sessions = sessions.groupby(\"user_id\", as_index= False).agg(lambda x:x.tolist())"
   ]
  },
  {
   "cell_type": "code",
   "execution_count": 21,
   "id": "7f65a341",
   "metadata": {
    "execution": {
     "iopub.execute_input": "2025-04-17T16:44:55.768481Z",
     "iopub.status.busy": "2025-04-17T16:44:55.768065Z",
     "iopub.status.idle": "2025-04-17T16:44:55.775482Z",
     "shell.execute_reply": "2025-04-17T16:44:55.774386Z"
    },
    "papermill": {
     "duration": 0.022919,
     "end_time": "2025-04-17T16:44:55.777185",
     "exception": false,
     "start_time": "2025-04-17T16:44:55.754266",
     "status": "completed"
    },
    "tags": []
   },
   "outputs": [],
   "source": [
    "def convert_to_set(device):\n",
    "    device = [str(i) for i in device]\n",
    "    device = [re.sub(\"nan\",\"\",i) for i in device]\n",
    "    device = \",\".join(set(device))\n",
    "    \n",
    "    return device\n",
    "\n",
    "def convert_the_time(time):\n",
    "    \n",
    "    float_time = []\n",
    "    time = [str(i) for i in time]\n",
    "    time = [re.sub(\"nan\",\"\",i) for i in time]\n",
    "    \n",
    "    for i in time:\n",
    "        try:\n",
    "            float_time.append(float(i))\n",
    "        except ValueError :\n",
    "            continue\n",
    "\n",
    "\n",
    "    time = sum(float_time)\n",
    "    \n",
    "    return time\n",
    "\n",
    "def convert_to_string(action):\n",
    "    action = [str(i) for i in action]\n",
    "    action = [re.sub(\"nan\",\"\",i) for i in action]\n",
    "    action = \",\".join(action)\n",
    "    \n",
    "    return action"
   ]
  },
  {
   "cell_type": "code",
   "execution_count": 22,
   "id": "46386167",
   "metadata": {
    "execution": {
     "iopub.execute_input": "2025-04-17T16:44:55.804307Z",
     "iopub.status.busy": "2025-04-17T16:44:55.803872Z",
     "iopub.status.idle": "2025-04-17T16:45:46.719689Z",
     "shell.execute_reply": "2025-04-17T16:45:46.718444Z"
    },
    "papermill": {
     "duration": 50.931597,
     "end_time": "2025-04-17T16:45:46.721776",
     "exception": false,
     "start_time": "2025-04-17T16:44:55.790179",
     "status": "completed"
    },
    "tags": []
   },
   "outputs": [],
   "source": [
    "sessions[\"action\"] = sessions[\"action\"].apply(convert_to_string)\n",
    "sessions[\"action_type\"] = sessions[\"action_type\"].apply(convert_to_string)\n",
    "sessions[\"action_detail\"] = sessions[\"action_detail\"].apply(convert_to_string)\n",
    "sessions['device_type'] =sessions['device_type'].apply(convert_to_set)\n",
    "sessions['secs_elapsed'] = sessions['secs_elapsed'].apply(convert_the_time)"
   ]
  },
  {
   "cell_type": "code",
   "execution_count": 23,
   "id": "ac375901",
   "metadata": {
    "execution": {
     "iopub.execute_input": "2025-04-17T16:45:46.749119Z",
     "iopub.status.busy": "2025-04-17T16:45:46.748686Z",
     "iopub.status.idle": "2025-04-17T16:45:46.760254Z",
     "shell.execute_reply": "2025-04-17T16:45:46.759088Z"
    },
    "papermill": {
     "duration": 0.026942,
     "end_time": "2025-04-17T16:45:46.762029",
     "exception": false,
     "start_time": "2025-04-17T16:45:46.735087",
     "status": "completed"
    },
    "tags": []
   },
   "outputs": [
    {
     "data": {
      "text/html": [
       "<div>\n",
       "<style scoped>\n",
       "    .dataframe tbody tr th:only-of-type {\n",
       "        vertical-align: middle;\n",
       "    }\n",
       "\n",
       "    .dataframe tbody tr th {\n",
       "        vertical-align: top;\n",
       "    }\n",
       "\n",
       "    .dataframe thead th {\n",
       "        text-align: right;\n",
       "    }\n",
       "</style>\n",
       "<table border=\"1\" class=\"dataframe\">\n",
       "  <thead>\n",
       "    <tr style=\"text-align: right;\">\n",
       "      <th></th>\n",
       "      <th>user_id</th>\n",
       "      <th>action</th>\n",
       "      <th>action_type</th>\n",
       "      <th>action_detail</th>\n",
       "      <th>device_type</th>\n",
       "      <th>secs_elapsed</th>\n",
       "    </tr>\n",
       "  </thead>\n",
       "  <tbody>\n",
       "    <tr>\n",
       "      <th>0</th>\n",
       "      <td>00023iyk9l</td>\n",
       "      <td>index,dashboard,header_userpic,dashboard,callb...</td>\n",
       "      <td>view,view,data,view,partner_callback,message_p...</td>\n",
       "      <td>view_search_results,dashboard,header_userpic,d...</td>\n",
       "      <td>Mac Desktop,iPhone</td>\n",
       "      <td>867896.0</td>\n",
       "    </tr>\n",
       "    <tr>\n",
       "      <th>1</th>\n",
       "      <td>0010k6l0om</td>\n",
       "      <td>search_results,show,personalize,show,search_re...</td>\n",
       "      <td>click,view,data,,click,click,,data,view,partne...</td>\n",
       "      <td>view_search_results,p3,wishlist_content_update...</td>\n",
       "      <td>Mac Desktop</td>\n",
       "      <td>586543.0</td>\n",
       "    </tr>\n",
       "    <tr>\n",
       "      <th>2</th>\n",
       "      <td>001wyh0pz8</td>\n",
       "      <td>search,search,search,show,social_connections,i...</td>\n",
       "      <td>click,click,click,view,data,-unknown-,view,-un...</td>\n",
       "      <td>view_search_results,view_search_results,view_s...</td>\n",
       "      <td>Android App Unknown Phone/Tablet</td>\n",
       "      <td>282965.0</td>\n",
       "    </tr>\n",
       "    <tr>\n",
       "      <th>3</th>\n",
       "      <td>0028jgx1x1</td>\n",
       "      <td>show,reviews,show,search,show,search,reviews,c...</td>\n",
       "      <td>view,data,view,click,view,click,data,submit,-u...</td>\n",
       "      <td>user_profile,listing_reviews,p3,view_search_re...</td>\n",
       "      <td>Android Phone,-unknown-</td>\n",
       "      <td>297010.0</td>\n",
       "    </tr>\n",
       "    <tr>\n",
       "      <th>4</th>\n",
       "      <td>002qnbzfs5</td>\n",
       "      <td>social_connections,payment_methods,create,show...</td>\n",
       "      <td>data,-unknown-,-unknown-,view,data,data,data,,...</td>\n",
       "      <td>user_social_connections,-unknown-,-unknown-,us...</td>\n",
       "      <td>iPhone,-unknown-</td>\n",
       "      <td>6487080.0</td>\n",
       "    </tr>\n",
       "  </tbody>\n",
       "</table>\n",
       "</div>"
      ],
      "text/plain": [
       "      user_id                                             action  \\\n",
       "0  00023iyk9l  index,dashboard,header_userpic,dashboard,callb...   \n",
       "1  0010k6l0om  search_results,show,personalize,show,search_re...   \n",
       "2  001wyh0pz8  search,search,search,show,social_connections,i...   \n",
       "3  0028jgx1x1  show,reviews,show,search,show,search,reviews,c...   \n",
       "4  002qnbzfs5  social_connections,payment_methods,create,show...   \n",
       "\n",
       "                                         action_type  \\\n",
       "0  view,view,data,view,partner_callback,message_p...   \n",
       "1  click,view,data,,click,click,,data,view,partne...   \n",
       "2  click,click,click,view,data,-unknown-,view,-un...   \n",
       "3  view,data,view,click,view,click,data,submit,-u...   \n",
       "4  data,-unknown-,-unknown-,view,data,data,data,,...   \n",
       "\n",
       "                                       action_detail  \\\n",
       "0  view_search_results,dashboard,header_userpic,d...   \n",
       "1  view_search_results,p3,wishlist_content_update...   \n",
       "2  view_search_results,view_search_results,view_s...   \n",
       "3  user_profile,listing_reviews,p3,view_search_re...   \n",
       "4  user_social_connections,-unknown-,-unknown-,us...   \n",
       "\n",
       "                        device_type  secs_elapsed  \n",
       "0                Mac Desktop,iPhone      867896.0  \n",
       "1                       Mac Desktop      586543.0  \n",
       "2  Android App Unknown Phone/Tablet      282965.0  \n",
       "3           Android Phone,-unknown-      297010.0  \n",
       "4                  iPhone,-unknown-     6487080.0  "
      ]
     },
     "execution_count": 23,
     "metadata": {},
     "output_type": "execute_result"
    }
   ],
   "source": [
    "sessions.head()"
   ]
  },
  {
   "cell_type": "markdown",
   "id": "230ce2e8",
   "metadata": {
    "papermill": {
     "duration": 0.012601,
     "end_time": "2025-04-17T16:45:46.787775",
     "exception": false,
     "start_time": "2025-04-17T16:45:46.775174",
     "status": "completed"
    },
    "tags": []
   },
   "source": [
    "# Encoding:"
   ]
  },
  {
   "cell_type": "code",
   "execution_count": 24,
   "id": "b0be7f21",
   "metadata": {
    "execution": {
     "iopub.execute_input": "2025-04-17T16:45:46.815184Z",
     "iopub.status.busy": "2025-04-17T16:45:46.814798Z",
     "iopub.status.idle": "2025-04-17T16:45:47.148936Z",
     "shell.execute_reply": "2025-04-17T16:45:47.147529Z"
    },
    "papermill": {
     "duration": 0.35017,
     "end_time": "2025-04-17T16:45:47.151069",
     "exception": false,
     "start_time": "2025-04-17T16:45:46.800899",
     "status": "completed"
    },
    "tags": []
   },
   "outputs": [],
   "source": [
    "X_df_train, X_df_val, y_train, y_val = train_test_split(df_train.drop(columns=['country_destination']), df_train['country_destination'],\n",
    "                                                        test_size=0.2, random_state=42, stratify=df_train['country_destination'])"
   ]
  },
  {
   "cell_type": "markdown",
   "id": "8e8b34eb",
   "metadata": {
    "papermill": {
     "duration": 0.013095,
     "end_time": "2025-04-17T16:45:47.177276",
     "exception": false,
     "start_time": "2025-04-17T16:45:47.164181",
     "status": "completed"
    },
    "tags": []
   },
   "source": [
    "## Merging With Sessions:"
   ]
  },
  {
   "cell_type": "code",
   "execution_count": 25,
   "id": "f6d31cb8",
   "metadata": {
    "execution": {
     "iopub.execute_input": "2025-04-17T16:45:47.204443Z",
     "iopub.status.busy": "2025-04-17T16:45:47.204014Z",
     "iopub.status.idle": "2025-04-17T16:45:47.775348Z",
     "shell.execute_reply": "2025-04-17T16:45:47.774016Z"
    },
    "papermill": {
     "duration": 0.587057,
     "end_time": "2025-04-17T16:45:47.777336",
     "exception": false,
     "start_time": "2025-04-17T16:45:47.190279",
     "status": "completed"
    },
    "tags": []
   },
   "outputs": [],
   "source": [
    "X_df_train = X_df_train.merge(sessions, left_on='id', right_on='user_id', how='left')\n",
    "X_df_val = X_df_val.merge(sessions, left_on='id', right_on='user_id', how='left')\n",
    "df_test = df_test.merge(sessions, left_on='id', right_on='user_id', how='left')"
   ]
  },
  {
   "cell_type": "markdown",
   "id": "c03561b1",
   "metadata": {
    "papermill": {
     "duration": 0.013097,
     "end_time": "2025-04-17T16:45:47.803664",
     "exception": false,
     "start_time": "2025-04-17T16:45:47.790567",
     "status": "completed"
    },
    "tags": []
   },
   "source": [
    "## Age:"
   ]
  },
  {
   "cell_type": "code",
   "execution_count": 26,
   "id": "ea542f54",
   "metadata": {
    "execution": {
     "iopub.execute_input": "2025-04-17T16:45:47.832216Z",
     "iopub.status.busy": "2025-04-17T16:45:47.831878Z",
     "iopub.status.idle": "2025-04-17T16:45:47.837751Z",
     "shell.execute_reply": "2025-04-17T16:45:47.836751Z"
    },
    "papermill": {
     "duration": 0.021711,
     "end_time": "2025-04-17T16:45:47.839498",
     "exception": false,
     "start_time": "2025-04-17T16:45:47.817787",
     "status": "completed"
    },
    "tags": []
   },
   "outputs": [
    {
     "data": {
      "text/plain": [
       "\"\\nX_df_train.loc[(X_df_train['age'] >= 100) | (X_df_train['age'] <= 15), 'age'] = np.nan\\nX_df_val.loc[(X_df_val['age'] >= 100) | (X_df_val['age'] <= 15), 'age'] = np.nan\\ndf_test.loc[(df_test['age'] >= 100) | (df_test['age'] <= 15), 'age'] = np.nan\\n\""
      ]
     },
     "execution_count": 26,
     "metadata": {},
     "output_type": "execute_result"
    }
   ],
   "source": [
    "'''\n",
    "X_df_train.loc[(X_df_train['age'] >= 100) | (X_df_train['age'] <= 15), 'age'] = np.nan\n",
    "X_df_val.loc[(X_df_val['age'] >= 100) | (X_df_val['age'] <= 15), 'age'] = np.nan\n",
    "df_test.loc[(df_test['age'] >= 100) | (df_test['age'] <= 15), 'age'] = np.nan\n",
    "'''"
   ]
  },
  {
   "cell_type": "code",
   "execution_count": 27,
   "id": "11b37ec0",
   "metadata": {
    "execution": {
     "iopub.execute_input": "2025-04-17T16:45:47.868436Z",
     "iopub.status.busy": "2025-04-17T16:45:47.868038Z",
     "iopub.status.idle": "2025-04-17T16:45:47.893882Z",
     "shell.execute_reply": "2025-04-17T16:45:47.892631Z"
    },
    "papermill": {
     "duration": 0.042159,
     "end_time": "2025-04-17T16:45:47.895882",
     "exception": false,
     "start_time": "2025-04-17T16:45:47.853723",
     "status": "completed"
    },
    "tags": []
   },
   "outputs": [],
   "source": [
    "X_df_train.loc[(X_df_train['age'] >= 100) | (X_df_train['age'] <= 15), 'age'] = np.median(X_df_train['age'].dropna())\n",
    "X_df_val.loc[(X_df_val['age'] >= 100) | (X_df_val['age'] <= 15), 'age'] = np.median(X_df_val['age'].dropna())\n",
    "df_test.loc[(df_test['age'] >= 100) | (df_test['age'] <= 15), 'age'] = np.median(df_train['age'].dropna())"
   ]
  },
  {
   "cell_type": "code",
   "execution_count": 28,
   "id": "9b944216",
   "metadata": {
    "execution": {
     "iopub.execute_input": "2025-04-17T16:45:47.981470Z",
     "iopub.status.busy": "2025-04-17T16:45:47.981047Z",
     "iopub.status.idle": "2025-04-17T16:45:47.987086Z",
     "shell.execute_reply": "2025-04-17T16:45:47.985799Z"
    },
    "papermill": {
     "duration": 0.021819,
     "end_time": "2025-04-17T16:45:47.988809",
     "exception": false,
     "start_time": "2025-04-17T16:45:47.966990",
     "status": "completed"
    },
    "tags": []
   },
   "outputs": [
    {
     "data": {
      "text/plain": [
       "\"\\nX_df_train.loc[(X_df_train['age'] >= 100), 'age'] = 100\\nX_df_train.loc[(X_df_train['age'] <= 15), 'age'] = 15\\n\\nX_df_val.loc[(X_df_val['age'] >= 100), 'age'] = 100\\nX_df_val.loc[(X_df_val['age'] <= 15), 'age'] = 15\\n\\ndf_test.loc[(df_test['age'] >= 100), 'age'] = 100\\ndf_test.loc[(df_test['age'] <= 15), 'age'] = 15\\n\""
      ]
     },
     "execution_count": 28,
     "metadata": {},
     "output_type": "execute_result"
    }
   ],
   "source": [
    "'''\n",
    "X_df_train.loc[(X_df_train['age'] >= 100), 'age'] = 100\n",
    "X_df_train.loc[(X_df_train['age'] <= 15), 'age'] = 15\n",
    "\n",
    "X_df_val.loc[(X_df_val['age'] >= 100), 'age'] = 100\n",
    "X_df_val.loc[(X_df_val['age'] <= 15), 'age'] = 15\n",
    "\n",
    "df_test.loc[(df_test['age'] >= 100), 'age'] = 100\n",
    "df_test.loc[(df_test['age'] <= 15), 'age'] = 15\n",
    "'''"
   ]
  },
  {
   "cell_type": "code",
   "execution_count": 29,
   "id": "986e9e97",
   "metadata": {
    "execution": {
     "iopub.execute_input": "2025-04-17T16:45:48.016178Z",
     "iopub.status.busy": "2025-04-17T16:45:48.015799Z",
     "iopub.status.idle": "2025-04-17T16:45:48.022659Z",
     "shell.execute_reply": "2025-04-17T16:45:48.021586Z"
    },
    "papermill": {
     "duration": 0.022548,
     "end_time": "2025-04-17T16:45:48.024432",
     "exception": false,
     "start_time": "2025-04-17T16:45:48.001884",
     "status": "completed"
    },
    "tags": []
   },
   "outputs": [],
   "source": [
    "def age_binning(age):\n",
    "    if 18 < age <= 20:\n",
    "        return '18 - 20'\n",
    "    elif 20 < age <= 25:\n",
    "        return '20 - 25'\n",
    "    elif 25 < age <= 30:\n",
    "        return '25 - 30'\n",
    "    elif 30 < age <= 35:\n",
    "        return '30 - 35'\n",
    "    elif 35 < age <= 40:\n",
    "        return '35 - 40'\n",
    "    elif 40 < age <= 45:\n",
    "        return '40 - 45'\n",
    "    elif 45 < age <= 50:\n",
    "        return '45 - 50'\n",
    "    elif 50 < age <= 55:\n",
    "        return '50 - 55'\n",
    "    elif 55 < age <= 60:\n",
    "        return '55 - 60'\n",
    "    elif 60 < age <= 65:\n",
    "        return '60 - 65'\n",
    "    elif 65 < age <= 70:\n",
    "        return '65 - 70'\n",
    "    elif 70 < age <= 75:\n",
    "        return '70 - 75'\n",
    "    elif 75 < age <= 80:\n",
    "        return '75 - 80'\n",
    "    elif 80 < age <= 85:\n",
    "        return '80 - 85'\n",
    "    elif 85 < age <= 90:\n",
    "        return '85 - 90'\n",
    "    elif 90 < age <= 95:\n",
    "        return '90 - 95'\n",
    "    elif 95 < age <= 100:\n",
    "        return '95 - 100'\n",
    "    else:\n",
    "        return np.nan\n"
   ]
  },
  {
   "cell_type": "code",
   "execution_count": 30,
   "id": "8ce02cc0",
   "metadata": {
    "execution": {
     "iopub.execute_input": "2025-04-17T16:45:48.053047Z",
     "iopub.status.busy": "2025-04-17T16:45:48.052696Z",
     "iopub.status.idle": "2025-04-17T16:45:48.262490Z",
     "shell.execute_reply": "2025-04-17T16:45:48.261388Z"
    },
    "papermill": {
     "duration": 0.226226,
     "end_time": "2025-04-17T16:45:48.264573",
     "exception": false,
     "start_time": "2025-04-17T16:45:48.038347",
     "status": "completed"
    },
    "tags": []
   },
   "outputs": [],
   "source": [
    "df_train['member_age_bins'] = df_train['age'].apply(age_binning)\n",
    "df_test['member_age_bins'] = df_test['age'].apply(age_binning)"
   ]
  },
  {
   "cell_type": "code",
   "execution_count": 31,
   "id": "b151a747",
   "metadata": {
    "execution": {
     "iopub.execute_input": "2025-04-17T16:45:48.291929Z",
     "iopub.status.busy": "2025-04-17T16:45:48.291535Z",
     "iopub.status.idle": "2025-04-17T16:45:48.462259Z",
     "shell.execute_reply": "2025-04-17T16:45:48.461232Z"
    },
    "papermill": {
     "duration": 0.186553,
     "end_time": "2025-04-17T16:45:48.464204",
     "exception": false,
     "start_time": "2025-04-17T16:45:48.277651",
     "status": "completed"
    },
    "tags": []
   },
   "outputs": [
    {
     "data": {
      "text/plain": [
       "id                                    0\n",
       "gender                                0\n",
       "age                               70383\n",
       "signup_method                         0\n",
       "signup_flow                           0\n",
       "language                              0\n",
       "affiliate_channel                     0\n",
       "affiliate_provider                    0\n",
       "first_affiliate_tracked            4793\n",
       "signup_app                            0\n",
       "first_device_type                     0\n",
       "first_browser                         0\n",
       "dac_year                              0\n",
       "dac_month                             0\n",
       "dac_day                               0\n",
       "timestamp_first_active_year           0\n",
       "timestamp_first_active_month          0\n",
       "timestamp_first_active_day            0\n",
       "timestamp_first_active_hour           0\n",
       "timestamp_first_active_minute         0\n",
       "timestamp_first_active_second         0\n",
       "user_id                          111798\n",
       "action                           111798\n",
       "action_type                      111798\n",
       "action_detail                    111798\n",
       "device_type                      111798\n",
       "secs_elapsed                     111798\n",
       "dtype: int64"
      ]
     },
     "execution_count": 31,
     "metadata": {},
     "output_type": "execute_result"
    }
   ],
   "source": [
    "X_df_train.isna().sum()"
   ]
  },
  {
   "cell_type": "code",
   "execution_count": 32,
   "id": "d509dc7a",
   "metadata": {
    "execution": {
     "iopub.execute_input": "2025-04-17T16:45:48.492175Z",
     "iopub.status.busy": "2025-04-17T16:45:48.491772Z",
     "iopub.status.idle": "2025-04-17T16:45:48.540598Z",
     "shell.execute_reply": "2025-04-17T16:45:48.539530Z"
    },
    "papermill": {
     "duration": 0.064601,
     "end_time": "2025-04-17T16:45:48.542306",
     "exception": false,
     "start_time": "2025-04-17T16:45:48.477705",
     "status": "completed"
    },
    "tags": []
   },
   "outputs": [
    {
     "data": {
      "text/plain": [
       "id                                   0\n",
       "gender                               0\n",
       "age                              17607\n",
       "signup_method                        0\n",
       "signup_flow                          0\n",
       "language                             0\n",
       "affiliate_channel                    0\n",
       "affiliate_provider                   0\n",
       "first_affiliate_tracked           1272\n",
       "signup_app                           0\n",
       "first_device_type                    0\n",
       "first_browser                        0\n",
       "dac_year                             0\n",
       "dac_month                            0\n",
       "dac_day                              0\n",
       "timestamp_first_active_year          0\n",
       "timestamp_first_active_month         0\n",
       "timestamp_first_active_day           0\n",
       "timestamp_first_active_hour          0\n",
       "timestamp_first_active_minute        0\n",
       "timestamp_first_active_second        0\n",
       "user_id                          27838\n",
       "action                           27838\n",
       "action_type                      27838\n",
       "action_detail                    27838\n",
       "device_type                      27838\n",
       "secs_elapsed                     27838\n",
       "dtype: int64"
      ]
     },
     "execution_count": 32,
     "metadata": {},
     "output_type": "execute_result"
    }
   ],
   "source": [
    "X_df_val.isna().sum()"
   ]
  },
  {
   "cell_type": "markdown",
   "id": "56354887",
   "metadata": {
    "papermill": {
     "duration": 0.013842,
     "end_time": "2025-04-17T16:45:48.570237",
     "exception": false,
     "start_time": "2025-04-17T16:45:48.556395",
     "status": "completed"
    },
    "tags": []
   },
   "source": [
    "## Missing Strings:"
   ]
  },
  {
   "cell_type": "code",
   "execution_count": 33,
   "id": "f66cbb38",
   "metadata": {
    "execution": {
     "iopub.execute_input": "2025-04-17T16:45:48.598964Z",
     "iopub.status.busy": "2025-04-17T16:45:48.598564Z",
     "iopub.status.idle": "2025-04-17T16:45:48.603488Z",
     "shell.execute_reply": "2025-04-17T16:45:48.602400Z"
    },
    "papermill": {
     "duration": 0.02132,
     "end_time": "2025-04-17T16:45:48.605067",
     "exception": false,
     "start_time": "2025-04-17T16:45:48.583747",
     "status": "completed"
    },
    "tags": []
   },
   "outputs": [],
   "source": [
    "def fill_missing_values(X_df_train, X_df_val, df_test, text_columns, numeric_column):\n",
    "    \"\"\"\n",
    "    Fills missing values in text columns with 'na' and in a numeric column with 0.\n",
    "\n",
    "    Args:\n",
    "        X_df_train (pd.DataFrame): Training dataframe.\n",
    "        X_df_val (pd.DataFrame): Validation dataframe.\n",
    "        df_test (pd.DataFrame): Test dataframe.\n",
    "        text_columns (list): List of text column names to fill with 'na'.\n",
    "        numeric_column (str): Name of numeric column to fill with 0.\n",
    "\n",
    "    Returns:\n",
    "        tuple: Transformed versions of (X_df_train, X_df_val, df_test)\n",
    "    \"\"\"\n",
    "    for df in [X_df_train, X_df_val, df_test]:\n",
    "        df[text_columns] = df[text_columns].fillna(\"na\")\n",
    "        df[numeric_column] = df[numeric_column].fillna(0)\n",
    "    \n",
    "    return X_df_train, X_df_val, df_test"
   ]
  },
  {
   "cell_type": "code",
   "execution_count": 34,
   "id": "f3ba74c0",
   "metadata": {
    "execution": {
     "iopub.execute_input": "2025-04-17T16:45:48.633125Z",
     "iopub.status.busy": "2025-04-17T16:45:48.632749Z",
     "iopub.status.idle": "2025-04-17T16:45:48.636775Z",
     "shell.execute_reply": "2025-04-17T16:45:48.635802Z"
    },
    "papermill": {
     "duration": 0.019651,
     "end_time": "2025-04-17T16:45:48.638226",
     "exception": false,
     "start_time": "2025-04-17T16:45:48.618575",
     "status": "completed"
    },
    "tags": []
   },
   "outputs": [],
   "source": [
    "def tokens(x):\n",
    "    return x.split(',')"
   ]
  },
  {
   "cell_type": "code",
   "execution_count": 35,
   "id": "11ca3e5f",
   "metadata": {
    "execution": {
     "iopub.execute_input": "2025-04-17T16:45:48.666650Z",
     "iopub.status.busy": "2025-04-17T16:45:48.666260Z",
     "iopub.status.idle": "2025-04-17T16:45:48.674614Z",
     "shell.execute_reply": "2025-04-17T16:45:48.673398Z"
    },
    "papermill": {
     "duration": 0.02438,
     "end_time": "2025-04-17T16:45:48.676400",
     "exception": false,
     "start_time": "2025-04-17T16:45:48.652020",
     "status": "completed"
    },
    "tags": []
   },
   "outputs": [],
   "source": [
    "def fit_transform_tfidf(X_df_train, X_df_val, df_test, columns):\n",
    "    \"\"\"\n",
    "    Fits a TF-IDF vectorizer on selected text columns of X_df_train and transforms X_df_val & df_test.\n",
    "    Adds transformed features to the original dataframes and removes the original text columns.\n",
    "\n",
    "    Args:\n",
    "        X_df_train (pd.DataFrame): Training dataframe.\n",
    "        X_df_val (pd.DataFrame): Validation dataframe.\n",
    "        df_test (pd.DataFrame): Test dataframe.\n",
    "        columns (list): List of text column names to apply TF-IDF.\n",
    "\n",
    "    Returns:\n",
    "        tuple: Transformed versions of (X_df_train, X_df_val, df_test)\n",
    "    \"\"\"\n",
    "    vectorizers = {}  # Store vectorizers for each column\n",
    "    transformed_data = {'train': [], 'val': [], 'test': []}\n",
    "\n",
    "    for col in columns:\n",
    "        vectorizer = TfidfVectorizer(min_df= 10, max_features = 5000, tokenizer = tokens)\n",
    "        X_train_tfidf = vectorizer.fit_transform(X_df_train[col].astype(str))  # Fit on training data\n",
    "        X_val_tfidf = vectorizer.transform(X_df_val[col].astype(str))  # Transform validation data\n",
    "        X_test_tfidf = vectorizer.transform(df_test[col].astype(str))  # Transform test data\n",
    "\n",
    "        vectorizers[col] = vectorizer\n",
    "        transformed_data['train'].append(X_train_tfidf)\n",
    "        transformed_data['val'].append(X_val_tfidf)\n",
    "        transformed_data['test'].append(X_test_tfidf)\n",
    "\n",
    "    # Stack transformed columns horizontally\n",
    "    X_train_tfidf = hstack(transformed_data['train'])\n",
    "    X_val_tfidf = hstack(transformed_data['val'])\n",
    "    X_test_tfidf = hstack(transformed_data['test'])\n",
    "\n",
    "    # Convert sparse matrices to DataFrame\n",
    "    train_tfidf_df = pd.DataFrame(X_train_tfidf.toarray(), index=X_df_train.index)\n",
    "    val_tfidf_df = pd.DataFrame(X_val_tfidf.toarray(), index=X_df_val.index)\n",
    "    test_tfidf_df = pd.DataFrame(X_test_tfidf.toarray(), index=df_test.index)\n",
    "\n",
    "    # Concatenate new TF-IDF features with original dataframe (excluding original text columns)\n",
    "    X_df_train = pd.concat([X_df_train.drop(columns, axis=1), train_tfidf_df], axis=1)\n",
    "    X_df_val = pd.concat([X_df_val.drop(columns, axis=1), val_tfidf_df], axis=1)\n",
    "    df_test = pd.concat([df_test.drop(columns, axis=1), test_tfidf_df], axis=1)\n",
    "\n",
    "    return X_df_train, X_df_val, df_test\n"
   ]
  },
  {
   "cell_type": "code",
   "execution_count": 36,
   "id": "dfbd0f50",
   "metadata": {
    "execution": {
     "iopub.execute_input": "2025-04-17T16:45:48.705373Z",
     "iopub.status.busy": "2025-04-17T16:45:48.704945Z",
     "iopub.status.idle": "2025-04-17T16:46:04.930148Z",
     "shell.execute_reply": "2025-04-17T16:46:04.928971Z"
    },
    "papermill": {
     "duration": 16.241849,
     "end_time": "2025-04-17T16:46:04.932054",
     "exception": false,
     "start_time": "2025-04-17T16:45:48.690205",
     "status": "completed"
    },
    "tags": []
   },
   "outputs": [],
   "source": [
    "columns_to_vectorize = ['action', 'action_type', 'action_detail']\n",
    "X_df_train, X_df_val, df_test = fit_transform_tfidf(X_df_train, X_df_val, df_test, columns_to_vectorize)"
   ]
  },
  {
   "cell_type": "code",
   "execution_count": 37,
   "id": "3cfa3542",
   "metadata": {
    "execution": {
     "iopub.execute_input": "2025-04-17T16:46:04.960757Z",
     "iopub.status.busy": "2025-04-17T16:46:04.960419Z",
     "iopub.status.idle": "2025-04-17T16:46:04.965524Z",
     "shell.execute_reply": "2025-04-17T16:46:04.964423Z"
    },
    "papermill": {
     "duration": 0.021233,
     "end_time": "2025-04-17T16:46:04.967197",
     "exception": false,
     "start_time": "2025-04-17T16:46:04.945964",
     "status": "completed"
    },
    "tags": []
   },
   "outputs": [],
   "source": [
    "#Keeping ID\n",
    "train_id = X_df_train['id']\n",
    "val_id = X_df_val['id']\n",
    "test_id = df_test['id']"
   ]
  },
  {
   "cell_type": "code",
   "execution_count": 38,
   "id": "9f5ee5f5",
   "metadata": {
    "execution": {
     "iopub.execute_input": "2025-04-17T16:46:04.997062Z",
     "iopub.status.busy": "2025-04-17T16:46:04.996724Z",
     "iopub.status.idle": "2025-04-17T16:46:05.322176Z",
     "shell.execute_reply": "2025-04-17T16:46:05.321078Z"
    },
    "papermill": {
     "duration": 0.343297,
     "end_time": "2025-04-17T16:46:05.324348",
     "exception": false,
     "start_time": "2025-04-17T16:46:04.981051",
     "status": "completed"
    },
    "tags": []
   },
   "outputs": [],
   "source": [
    "X_train = X_df_train.drop(columns=['id', 'user_id'], inplace=False)\n",
    "X_val = X_df_val.drop(columns=['id', 'user_id'], inplace=False)\n",
    "X_test = df_test.drop(columns=['id', 'user_id'], inplace=False)"
   ]
  },
  {
   "cell_type": "code",
   "execution_count": 39,
   "id": "35330242",
   "metadata": {
    "execution": {
     "iopub.execute_input": "2025-04-17T16:46:05.353504Z",
     "iopub.status.busy": "2025-04-17T16:46:05.352998Z",
     "iopub.status.idle": "2025-04-17T16:46:05.366834Z",
     "shell.execute_reply": "2025-04-17T16:46:05.365770Z"
    },
    "papermill": {
     "duration": 0.030696,
     "end_time": "2025-04-17T16:46:05.368667",
     "exception": false,
     "start_time": "2025-04-17T16:46:05.337971",
     "status": "completed"
    },
    "tags": []
   },
   "outputs": [],
   "source": [
    "def encode_categorical_features(X_train, X_val, X_test, cat_cols):\n",
    "    \"\"\"\n",
    "    Encodes categorical features using One-Hot Encoding (OHE) for low-cardinality features\n",
    "    and Label Encoding for high-cardinality features.\n",
    "\n",
    "    Parameters:\n",
    "        X_train (DataFrame): Training data\n",
    "        X_val (DataFrame): Validation data\n",
    "        X_test (DataFrame): Test data\n",
    "        cat_cols (list): List of categorical column names\n",
    "\n",
    "    Returns:\n",
    "        X_train, X_val, X_test (DataFrame): Transformed datasets\n",
    "        label_encoders (dict): Dictionary of label encoders for high-cardinality features\n",
    "    \"\"\"\n",
    "\n",
    "    # Ensure categorical columns exist in all datasets\n",
    "    cat_cols = [col for col in cat_cols if col in X_train.columns]\n",
    "\n",
    "    # Separate columns based on the number of unique categories\n",
    "    one_hot_cols = [col for col in cat_cols if X_train[col].nunique() < 5]\n",
    "    label_encode_cols = [col for col in cat_cols if X_train[col].nunique() >= 5]\n",
    "\n",
    "    # One-Hot Encoding for low-cardinality features\n",
    "    if one_hot_cols:\n",
    "        ohe = OneHotEncoder(handle_unknown='ignore', sparse=False)\n",
    "        X_train_ohe = pd.DataFrame(ohe.fit_transform(X_train[one_hot_cols]), \n",
    "                                   columns=ohe.get_feature_names_out(one_hot_cols))\n",
    "        X_val_ohe = pd.DataFrame(ohe.transform(X_val[one_hot_cols]), \n",
    "                                 columns=ohe.get_feature_names_out(one_hot_cols))\n",
    "        X_test_ohe = pd.DataFrame(ohe.transform(X_test[one_hot_cols]), \n",
    "                                  columns=ohe.get_feature_names_out(one_hot_cols))\n",
    "        # Drop original categorical columns and merge OHE results\n",
    "        X_train = X_train.drop(columns=one_hot_cols, errors='ignore').reset_index(drop=True).join(X_train_ohe)\n",
    "        X_val = X_val.drop(columns=one_hot_cols, errors='ignore').reset_index(drop=True).join(X_val_ohe)\n",
    "        X_test = X_test.drop(columns=one_hot_cols, errors='ignore').reset_index(drop=True).join(X_test_ohe)\n",
    "\n",
    "    # Label Encoding for high-cardinality features\n",
    "    label_encoders = {}\n",
    "    for col in label_encode_cols:\n",
    "        le = LabelEncoder()\n",
    "        X_train[col] = le.fit_transform(X_train[col].astype(str))\n",
    "        X_val[col] = X_val[col].map(lambda x: le.transform([x])[0] if x in le.classes_ else -1)\n",
    "        X_test[col] = X_test[col].map(lambda x: le.transform([x])[0] if x in le.classes_ else -1)\n",
    "        label_encoders[col] = le  # Store encoder for inverse transform if needed\n",
    "\n",
    "    return X_train, X_val, X_test, label_encoders\n"
   ]
  },
  {
   "cell_type": "code",
   "execution_count": 40,
   "id": "fb2d58fc",
   "metadata": {
    "execution": {
     "iopub.execute_input": "2025-04-17T16:46:05.398099Z",
     "iopub.status.busy": "2025-04-17T16:46:05.397608Z",
     "iopub.status.idle": "2025-04-17T16:47:01.568578Z",
     "shell.execute_reply": "2025-04-17T16:47:01.567389Z"
    },
    "papermill": {
     "duration": 56.187782,
     "end_time": "2025-04-17T16:47:01.570699",
     "exception": false,
     "start_time": "2025-04-17T16:46:05.382917",
     "status": "completed"
    },
    "tags": []
   },
   "outputs": [],
   "source": [
    "cat_cols = ['gender', 'signup_method', 'language', 'affiliate_channel', \n",
    "            'affiliate_provider', 'first_affiliate_tracked', 'signup_app', \n",
    "            'first_device_type', 'first_browser', 'member_age_bins', 'device_type',]\n",
    "\n",
    "# Encode categorical features for all datasets\n",
    "X_train, X_val, X_test, label_encoders = encode_categorical_features(X_train, X_val, X_test, cat_cols)\n"
   ]
  },
  {
   "cell_type": "markdown",
   "id": "7c5d663d",
   "metadata": {
    "papermill": {
     "duration": 0.013895,
     "end_time": "2025-04-17T16:47:01.599066",
     "exception": false,
     "start_time": "2025-04-17T16:47:01.585171",
     "status": "completed"
    },
    "tags": []
   },
   "source": [
    "### Imbalance"
   ]
  },
  {
   "cell_type": "code",
   "execution_count": 41,
   "id": "9419e51c",
   "metadata": {
    "execution": {
     "iopub.execute_input": "2025-04-17T16:47:01.627599Z",
     "iopub.status.busy": "2025-04-17T16:47:01.627208Z",
     "iopub.status.idle": "2025-04-17T16:47:02.013946Z",
     "shell.execute_reply": "2025-04-17T16:47:02.012849Z"
    },
    "papermill": {
     "duration": 0.402941,
     "end_time": "2025-04-17T16:47:02.015649",
     "exception": false,
     "start_time": "2025-04-17T16:47:01.612708",
     "status": "completed"
    },
    "tags": []
   },
   "outputs": [
    {
     "data": {
      "image/png": "[encoded data removed]",
      "text/plain": [
       "<Figure size 640x480 with 1 Axes>"
      ]
     },
     "metadata": {},
     "output_type": "display_data"
    }
   ],
   "source": [
    "# Plot the distribution of the target variable\n",
    "sns.countplot(x=y_train)\n",
    "plt.title('Class Distribution in y_train')\n",
    "plt.xlabel('Class')\n",
    "plt.ylabel('Count')\n",
    "plt.show()"
   ]
  },
  {
   "cell_type": "code",
   "execution_count": 42,
   "id": "79c3b5e4",
   "metadata": {
    "execution": {
     "iopub.execute_input": "2025-04-17T16:47:02.045362Z",
     "iopub.status.busy": "2025-04-17T16:47:02.044955Z",
     "iopub.status.idle": "2025-04-17T16:47:02.078100Z",
     "shell.execute_reply": "2025-04-17T16:47:02.077004Z"
    },
    "papermill": {
     "duration": 0.05014,
     "end_time": "2025-04-17T16:47:02.079959",
     "exception": false,
     "start_time": "2025-04-17T16:47:02.029819",
     "status": "completed"
    },
    "tags": []
   },
   "outputs": [
    {
     "name": "stdout",
     "output_type": "stream",
     "text": [
      "country_destination\n",
      "NDF      58.347388\n",
      "US       29.222886\n",
      "other     4.728859\n",
      "FR        2.353010\n",
      "IT        1.328180\n",
      "GB        1.088662\n",
      "ES        1.053525\n",
      "CA        0.668775\n",
      "DE        0.497189\n",
      "NL        0.357227\n",
      "AU        0.252401\n",
      "PT        0.101897\n",
      "Name: proportion, dtype: float64\n"
     ]
    }
   ],
   "source": [
    "class_distribution = y_train.value_counts()\n",
    "\n",
    "# Get the proportion of each class\n",
    "class_proportions = y_train.value_counts(normalize=True)*100\n",
    "print(class_proportions)"
   ]
  },
  {
   "cell_type": "code",
   "execution_count": 43,
   "id": "c733c58b",
   "metadata": {
    "execution": {
     "iopub.execute_input": "2025-04-17T16:47:02.109437Z",
     "iopub.status.busy": "2025-04-17T16:47:02.109049Z",
     "iopub.status.idle": "2025-04-17T16:47:02.157170Z",
     "shell.execute_reply": "2025-04-17T16:47:02.156131Z"
    },
    "papermill": {
     "duration": 0.064762,
     "end_time": "2025-04-17T16:47:02.158878",
     "exception": false,
     "start_time": "2025-04-17T16:47:02.094116",
     "status": "completed"
    },
    "tags": []
   },
   "outputs": [
    {
     "name": "stdout",
     "output_type": "stream",
     "text": [
      "Encoded y_train: [7 7 7 7 6]\n"
     ]
    }
   ],
   "source": [
    "label_encoder = LabelEncoder()\n",
    "y_train_encoded = label_encoder.fit_transform(y_train)\n",
    "y_val_encoded = label_encoder.transform(y_val)\n",
    "\n",
    "print(\"Encoded y_train:\", y_val_encoded[:5])"
   ]
  },
  {
   "cell_type": "code",
   "execution_count": 44,
   "id": "4e5ee0f4",
   "metadata": {
    "execution": {
     "iopub.execute_input": "2025-04-17T16:47:02.189341Z",
     "iopub.status.busy": "2025-04-17T16:47:02.188984Z",
     "iopub.status.idle": "2025-04-17T16:47:02.256133Z",
     "shell.execute_reply": "2025-04-17T16:47:02.255127Z"
    },
    "papermill": {
     "duration": 0.084412,
     "end_time": "2025-04-17T16:47:02.257943",
     "exception": false,
     "start_time": "2025-04-17T16:47:02.173531",
     "status": "completed"
    },
    "tags": []
   },
   "outputs": [],
   "source": [
    "X_test.drop(['member_age_bins'], axis = 1, inplace = True)"
   ]
  },
  {
   "cell_type": "markdown",
   "id": "f241bdc5",
   "metadata": {
    "papermill": {
     "duration": 0.013654,
     "end_time": "2025-04-17T16:47:02.285804",
     "exception": false,
     "start_time": "2025-04-17T16:47:02.272150",
     "status": "completed"
    },
    "tags": []
   },
   "source": [
    "# Model:"
   ]
  },
  {
   "cell_type": "code",
   "execution_count": 45,
   "id": "fb3e1f71",
   "metadata": {
    "execution": {
     "iopub.execute_input": "2025-04-17T16:47:02.315756Z",
     "iopub.status.busy": "2025-04-17T16:47:02.315320Z",
     "iopub.status.idle": "2025-04-17T16:47:47.081156Z",
     "shell.execute_reply": "2025-04-17T16:47:47.080268Z"
    },
    "papermill": {
     "duration": 44.783658,
     "end_time": "2025-04-17T16:47:47.083352",
     "exception": false,
     "start_time": "2025-04-17T16:47:02.299694",
     "status": "completed"
    },
    "tags": []
   },
   "outputs": [],
   "source": [
    "xgb = XGBClassifier(base_score=0.5, booster=None, colsample_bylevel=1,\n",
    "              colsample_bynode=1, colsample_bytree=0.5, gamma=0, gpu_id=-1,\n",
    "              importance_type='gain', interaction_constraints=None,\n",
    "              learning_rate=0.3, max_delta_step=0, max_depth=6,\n",
    "              min_child_weight=1, missing=np.nan, monotone_constraints=None,\n",
    "              n_estimators=25, n_jobs=0, num_parallel_tree=1,\n",
    "              objective='multi:softprob', random_state=0, reg_alpha=0,\n",
    "              reg_lambda=1, scale_pos_weight=None, seed=0, subsample=0.5,\n",
    "              tree_method=None, validate_parameters=False, verbosity=None)\n",
    "\n",
    "xgb.fit(X_train, y_train_encoded)\n",
    "\n",
    "y_predxgb = xgb.predict_proba(X_test)\n"
   ]
  },
  {
   "cell_type": "code",
   "execution_count": 46,
   "id": "73094c6d",
   "metadata": {
    "execution": {
     "iopub.execute_input": "2025-04-17T16:47:47.113378Z",
     "iopub.status.busy": "2025-04-17T16:47:47.112968Z",
     "iopub.status.idle": "2025-04-17T16:48:58.814312Z",
     "shell.execute_reply": "2025-04-17T16:48:58.813125Z"
    },
    "papermill": {
     "duration": 71.718534,
     "end_time": "2025-04-17T16:48:58.816349",
     "exception": false,
     "start_time": "2025-04-17T16:47:47.097815",
     "status": "completed"
    },
    "tags": []
   },
   "outputs": [],
   "source": [
    "from sklearn.ensemble import RandomForestClassifier\n",
    "from sklearn.impute import SimpleImputer\n",
    "\n",
    "# Ensure all column names are strings\n",
    "X_train.columns = X_train.columns.astype(str)\n",
    "X_test.columns = X_test.columns.astype(str)\n",
    "\n",
    "# Fill NaNs with -1\n",
    "imputer = SimpleImputer(strategy='constant', fill_value=-1)\n",
    "X_train_imputed = pd.DataFrame(imputer.fit_transform(X_train), columns=X_train.columns)\n",
    "X_test_imputed = pd.DataFrame(imputer.transform(X_test), columns=X_test.columns)\n",
    "\n",
    "# Fit the model\n",
    "rf = RandomForestClassifier(\n",
    "    n_estimators=40,\n",
    "    max_depth=3,\n",
    "    min_samples_split=10,\n",
    "    min_samples_leaf=4,\n",
    "    max_features=None,\n",
    "    bootstrap=True\n",
    ")\n",
    "rf.fit(X_train_imputed, y_train_encoded)\n",
    "\n",
    "# Predict\n",
    "y_predrf = rf.predict_proba(X_test_imputed)"
   ]
  },
  {
   "cell_type": "code",
   "execution_count": 47,
   "id": "d98eb73b",
   "metadata": {
    "execution": {
     "iopub.execute_input": "2025-04-17T16:48:58.846461Z",
     "iopub.status.busy": "2025-04-17T16:48:58.846067Z",
     "iopub.status.idle": "2025-04-17T16:49:00.347746Z",
     "shell.execute_reply": "2025-04-17T16:49:00.346894Z"
    },
    "papermill": {
     "duration": 1.519112,
     "end_time": "2025-04-17T16:49:00.349903",
     "exception": false,
     "start_time": "2025-04-17T16:48:58.830791",
     "status": "completed"
    },
    "tags": []
   },
   "outputs": [],
   "source": [
    "y_pred_train = xgb.predict_proba(X_train)\n",
    "y_pred_val = xgb.predict_proba(X_val)"
   ]
  },
  {
   "cell_type": "code",
   "execution_count": 48,
   "id": "37865a7e",
   "metadata": {
    "execution": {
     "iopub.execute_input": "2025-04-17T16:49:00.379726Z",
     "iopub.status.busy": "2025-04-17T16:49:00.379363Z",
     "iopub.status.idle": "2025-04-17T16:49:00.384425Z",
     "shell.execute_reply": "2025-04-17T16:49:00.383372Z"
    },
    "papermill": {
     "duration": 0.021914,
     "end_time": "2025-04-17T16:49:00.386020",
     "exception": false,
     "start_time": "2025-04-17T16:49:00.364106",
     "status": "completed"
    },
    "tags": []
   },
   "outputs": [],
   "source": [
    "def compute_ndcg(y_true, y_pred, k=5):\n",
    "    \"\"\"\n",
    "    Computes the NDCG@k score for multi-class classification.\n",
    "\n",
    "    Parameters:\n",
    "        y_true (array-like): Ground truth labels, must be encoded as integers.\n",
    "        y_pred (array-like): Predicted probabilities (output of predict_proba).\n",
    "        k (int): The number of top predictions to consider for NDCG calculation.\n",
    "    \n",
    "    Returns:\n",
    "        float: The NDCG@k score.\n",
    "    \"\"\"\n",
    "    # Convert y_true to binary indicator format\n",
    "    label_binarizer = LabelBinarizer()\n",
    "    y_true_binarized = label_binarizer.fit_transform(y_true)\n",
    "\n",
    "    # Compute NDCG@k\n",
    "    ndcg_score_value = ndcg_score(y_true_binarized, y_pred, k=k)\n",
    "\n",
    "    return ndcg_score_value"
   ]
  },
  {
   "cell_type": "code",
   "execution_count": 49,
   "id": "ab99c9bf",
   "metadata": {
    "execution": {
     "iopub.execute_input": "2025-04-17T16:49:00.416050Z",
     "iopub.status.busy": "2025-04-17T16:49:00.415712Z",
     "iopub.status.idle": "2025-04-17T16:49:12.753856Z",
     "shell.execute_reply": "2025-04-17T16:49:12.752363Z"
    },
    "papermill": {
     "duration": 12.355093,
     "end_time": "2025-04-17T16:49:12.755679",
     "exception": false,
     "start_time": "2025-04-17T16:49:00.400586",
     "status": "completed"
    },
    "tags": []
   },
   "outputs": [
    {
     "name": "stdout",
     "output_type": "stream",
     "text": [
      "NDCG@5 Score on Training Data: 0.8399\n",
      "NDCG@5 Score on Val Data: 0.8310\n"
     ]
    }
   ],
   "source": [
    "ndcg_train_score = compute_ndcg(y_train_encoded, y_pred_train, k=5)\n",
    "print(f\"NDCG@5 Score on Training Data: {ndcg_train_score:.4f}\")\n",
    "\n",
    "ndcg_val_score = compute_ndcg(y_val_encoded, y_pred_val, k=5)\n",
    "print(f\"NDCG@5 Score on Val Data: {ndcg_val_score:.4f}\")"
   ]
  },
  {
   "cell_type": "markdown",
   "id": "a03f4f1b",
   "metadata": {
    "papermill": {
     "duration": 0.013917,
     "end_time": "2025-04-17T16:49:12.783942",
     "exception": false,
     "start_time": "2025-04-17T16:49:12.770025",
     "status": "completed"
    },
    "tags": []
   },
   "source": [
    "# Calibration"
   ]
  },
  {
   "cell_type": "code",
   "execution_count": 50,
   "id": "8b8ae60b",
   "metadata": {
    "execution": {
     "iopub.execute_input": "2025-04-17T16:49:12.813748Z",
     "iopub.status.busy": "2025-04-17T16:49:12.813404Z",
     "iopub.status.idle": "2025-04-17T16:49:16.664315Z",
     "shell.execute_reply": "2025-04-17T16:49:16.663155Z"
    },
    "papermill": {
     "duration": 3.868069,
     "end_time": "2025-04-17T16:49:16.666134",
     "exception": false,
     "start_time": "2025-04-17T16:49:12.798065",
     "status": "completed"
    },
    "tags": []
   },
   "outputs": [
    {
     "name": "stdout",
     "output_type": "stream",
     "text": [
      "Calibrated Probabilities (Platt Scaling): [[0.00225499 0.00501428 0.00417459 0.00868832 0.01369221 0.00799762\n",
      "  0.01074285 0.7863204  0.0029391  0.00093119 0.1259685  0.03127596]\n",
      " [0.00188921 0.00474091 0.00390109 0.0079988  0.01278588 0.00832282\n",
      "  0.0108353  0.83316257 0.00264346 0.00092112 0.08651482 0.026284  ]\n",
      " [0.00189681 0.00509378 0.00391968 0.00871924 0.01413034 0.00810295\n",
      "  0.01038113 0.82504481 0.00272553 0.00092417 0.08981462 0.02924696]\n",
      " [0.00191429 0.0051105  0.00413888 0.00827775 0.01479605 0.00818819\n",
      "  0.01042936 0.8112374  0.00280773 0.00093156 0.10224431 0.02992397]\n",
      " [0.00287007 0.00891192 0.00783466 0.01260038 0.03413642 0.01404961\n",
      "  0.02821499 0.21814697 0.00420479 0.0300276  0.55427787 0.08472472]]\n",
      "Calibrated Probabilities (Isotonic): [[2.12104856e-03 2.42670851e-03 2.07689615e-03 7.03540415e-03\n",
      "  8.94377390e-04 3.40922943e-03 4.46077879e-03 8.15513279e-01\n",
      "  1.56486496e-03 3.95492658e-04 1.40726696e-01 1.93752242e-02]\n",
      " [0.00000000e+00 0.00000000e+00 5.85580987e-04 2.43699233e-03\n",
      "  5.29766841e-04 6.63839161e-03 7.58785839e-03 9.50453772e-01\n",
      "  4.69958492e-04 4.02143146e-04 2.59539687e-02 4.94156717e-03]\n",
      " [0.00000000e+00 4.06902589e-03 8.40955128e-04 7.09891313e-03\n",
      "  4.78391911e-03 3.87820950e-03 4.50104649e-03 9.21462595e-01\n",
      "  4.66358682e-04 3.99062791e-04 3.64374479e-02 1.60624667e-02]\n",
      " [7.78980112e-04 4.03964166e-03 2.05590301e-03 4.84424261e-03\n",
      "  7.75261258e-03 5.51680162e-03 4.46854245e-03 8.63322523e-01\n",
      "  1.56758849e-03 6.01984866e-04 8.91047076e-02 1.59464725e-02]\n",
      " [2.59701994e-03 1.14147367e-02 1.35624510e-02 1.60459662e-02\n",
      "  4.27863050e-02 1.74007677e-02 5.40089380e-02 2.02867773e-01\n",
      "  4.64347473e-03 2.32353859e-03 5.37149058e-01 9.51999716e-02]]\n"
     ]
    }
   ],
   "source": [
    "from sklearn.calibration import CalibratedClassifierCV\n",
    "\n",
    "\n",
    "# 1. Calibrate with Platt Scaling (Sigmoid)\n",
    "calibrator_platt = CalibratedClassifierCV(xgb, method='sigmoid', cv='prefit')\n",
    "calibrator_platt.fit(X_val, y_val_encoded)  # Fit calibrator on validation set\n",
    "y_pred_platt = calibrator_platt.predict_proba(X_test)  # Calibrated probabilities\n",
    "\n",
    "# 2. Calibrate with Isotonic Regression\n",
    "calibrator_isotonic = CalibratedClassifierCV(xgb, method='isotonic', cv='prefit')\n",
    "calibrator_isotonic.fit(X_val, y_val_encoded)\n",
    "y_pred_isotonic = calibrator_isotonic.predict_proba(X_test)\n",
    "\n",
    "# Output calibrated probabilities\n",
    "print(\"Calibrated Probabilities (Platt Scaling):\", y_pred_platt[:5])  # First 5 samples\n",
    "print(\"Calibrated Probabilities (Isotonic):\", y_pred_isotonic[:5])"
   ]
  },
  {
   "cell_type": "markdown",
   "id": "9f9f4c9a",
   "metadata": {
    "papermill": {
     "duration": 0.01375,
     "end_time": "2025-04-17T16:49:16.694250",
     "exception": false,
     "start_time": "2025-04-17T16:49:16.680500",
     "status": "completed"
    },
    "tags": []
   },
   "source": [
    "# Submission:"
   ]
  },
  {
   "cell_type": "code",
   "execution_count": 51,
   "id": "c076be2b",
   "metadata": {
    "execution": {
     "iopub.execute_input": "2025-04-17T16:49:16.723874Z",
     "iopub.status.busy": "2025-04-17T16:49:16.723546Z",
     "iopub.status.idle": "2025-04-17T16:49:24.476566Z",
     "shell.execute_reply": "2025-04-17T16:49:24.475463Z"
    },
    "papermill": {
     "duration": 7.770313,
     "end_time": "2025-04-17T16:49:24.478761",
     "exception": false,
     "start_time": "2025-04-17T16:49:16.708448",
     "status": "completed"
    },
    "tags": []
   },
   "outputs": [],
   "source": [
    "ids = []\n",
    "cts = []\n",
    "for i in range(len(test_id)):\n",
    "    idx = test_id[i]\n",
    "    ids += [idx] * 5\n",
    "    cts += label_encoder.inverse_transform(np.argsort(y_predxgb[i])[::-1])[:5].tolist()\n",
    "\n",
    "subxgb = pd.DataFrame(np.column_stack((ids, cts)), columns=['id', 'country'])\n",
    "subxgb.to_csv('submission_xgb.csv',index=False)"
   ]
  },
  {
   "cell_type": "code",
   "execution_count": 52,
   "id": "f74983b0",
   "metadata": {
    "execution": {
     "iopub.execute_input": "2025-04-17T16:49:24.508834Z",
     "iopub.status.busy": "2025-04-17T16:49:24.508475Z",
     "iopub.status.idle": "2025-04-17T16:49:32.148521Z",
     "shell.execute_reply": "2025-04-17T16:49:32.147420Z"
    },
    "papermill": {
     "duration": 7.657416,
     "end_time": "2025-04-17T16:49:32.150664",
     "exception": false,
     "start_time": "2025-04-17T16:49:24.493248",
     "status": "completed"
    },
    "tags": []
   },
   "outputs": [],
   "source": [
    "ids = []\n",
    "cts = []\n",
    "for i in range(len(test_id)):\n",
    "    idx = test_id[i]\n",
    "    ids += [idx] * 5\n",
    "    cts += label_encoder.inverse_transform(np.argsort(y_predrf[i])[::-1])[:5].tolist()\n",
    "\n",
    "subrf = pd.DataFrame(np.column_stack((ids, cts)), columns=['id', 'country'])\n",
    "subrf.to_csv('submission_rf.csv',index=False)"
   ]
  },
  {
   "cell_type": "code",
   "execution_count": 53,
   "id": "8c7c4d82",
   "metadata": {
    "execution": {
     "iopub.execute_input": "2025-04-17T16:49:32.181433Z",
     "iopub.status.busy": "2025-04-17T16:49:32.181017Z",
     "iopub.status.idle": "2025-04-17T16:49:40.517359Z",
     "shell.execute_reply": "2025-04-17T16:49:40.516341Z"
    },
    "papermill": {
     "duration": 8.353965,
     "end_time": "2025-04-17T16:49:40.519241",
     "exception": false,
     "start_time": "2025-04-17T16:49:32.165276",
     "status": "completed"
    },
    "tags": []
   },
   "outputs": [],
   "source": [
    "# Define the weights for the models (you can adjust these based on the performance of the models)\n",
    "rf_weight = 0.3  # Example weight for RandomForest\n",
    "xgb_weight = 0.7  # Example weight for XGBoost\n",
    "\n",
    "ids = []\n",
    "cts = []\n",
    "\n",
    "# Loop through each sample in the test set\n",
    "for i in range(len(test_id)):\n",
    "    idx = test_id[i]\n",
    "    \n",
    "    # Get the weighted average of the predictions\n",
    "    weighted_pred = rf_weight * y_predrf[i] + xgb_weight * y_predxgb[i]\n",
    "    \n",
    "    # Get the top 5 predicted classes\n",
    "    top_5_classes = label_encoder.inverse_transform(np.argsort(weighted_pred)[::-1])[:5].tolist()\n",
    "    \n",
    "    # Append the results\n",
    "    ids += [idx] * 5\n",
    "    cts += top_5_classes\n",
    "\n",
    "# Create the DataFrame and save it to a CSV file\n",
    "suball = pd.DataFrame(np.column_stack((ids, cts)), columns=['id', 'country'])\n",
    "suball.to_csv('submissionall.csv', index=False)"
   ]
  },
  {
   "cell_type": "code",
   "execution_count": null,
   "id": "c46cfc80",
   "metadata": {
    "papermill": {
     "duration": 0.0138,
     "end_time": "2025-04-17T16:49:40.547557",
     "exception": false,
     "start_time": "2025-04-17T16:49:40.533757",
     "status": "completed"
    },
    "tags": []
   },
   "outputs": [],
   "source": []
  }
 ],
 "metadata": {
  "kaggle": {
   "accelerator": "none",
   "dataSources": [
    {
     "databundleVersionId": 35131,
     "sourceId": 4651,
     "sourceType": "competition"
    }
   ],
   "dockerImageVersionId": 30918,
   "isGpuEnabled": false,
   "isInternetEnabled": true,
   "language": "python",
   "sourceType": "notebook"
  },
  "kernelspec": {
   "display_name": "Python 3",
   "language": "python",
   "name": "python3"
  },
  "language_info": {
   "codemirror_mode": {
    "name": "ipython",
    "version": 3
   },
   "file_extension": ".py",
   "mimetype": "text/x-python",
   "name": "python",
   "nbconvert_exporter": "python",
   "pygments_lexer": "ipython3",
   "version": "3.10.12"
  },
  "papermill": {
   "default_parameters": {},
   "duration": 324.48592,
   "end_time": "2025-04-17T16:49:41.583903",
   "environment_variables": {},
   "exception": null,
   "input_path": "__notebook__.ipynb",
   "output_path": "__notebook__.ipynb",
   "parameters": {},
   "start_time": "2025-04-17T16:44:17.097983",
   "version": "2.6.0"
  }
 },
 "nbformat": 4,
 "nbformat_minor": 5
}
