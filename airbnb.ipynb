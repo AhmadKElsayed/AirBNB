{
 "cells": [
  {
   "cell_type": "code",
   "execution_count": 1,
   "id": "54a046ce",
   "metadata": {
    "execution": {
     "iopub.execute_input": "2025-04-13T20:16:01.763917Z",
     "iopub.status.busy": "2025-04-13T20:16:01.763442Z",
     "iopub.status.idle": "2025-04-13T20:16:01.773837Z",
     "shell.execute_reply": "2025-04-13T20:16:01.772528Z"
    },
    "papermill": {
     "duration": 0.02795,
     "end_time": "2025-04-13T20:16:01.776049",
     "exception": false,
     "start_time": "2025-04-13T20:16:01.748099",
     "status": "completed"
    },
    "tags": []
   },
   "outputs": [
    {
     "name": "stdout",
     "output_type": "stream",
     "text": [
      "/kaggle/input/airbnb-recruiting-new-user-bookings/sample_submission_NDF.csv.zip\n",
      "/kaggle/input/airbnb-recruiting-new-user-bookings/age_gender_bkts.csv.zip\n",
      "/kaggle/input/airbnb-recruiting-new-user-bookings/test_users.csv.zip\n",
      "/kaggle/input/airbnb-recruiting-new-user-bookings/countries.csv.zip\n",
      "/kaggle/input/airbnb-recruiting-new-user-bookings/sessions.csv.zip\n",
      "/kaggle/input/airbnb-recruiting-new-user-bookings/train_users_2.csv.zip\n"
     ]
    }
   ],
   "source": [
    "import os\n",
    "for dirname, _, filenames in os.walk('/kaggle/input'):\n",
    "    for filename in filenames:\n",
    "        print(os.path.join(dirname, filename))"
   ]
  },
  {
   "cell_type": "code",
   "execution_count": 2,
   "id": "1352af3c",
   "metadata": {
    "_cell_guid": "b1076dfc-b9ad-4769-8c92-a6c4dae69d19",
    "_uuid": "8f2839f25d086af736a60e9eeb907d3b93b6e0e5",
    "execution": {
     "iopub.execute_input": "2025-04-13T20:16:01.799445Z",
     "iopub.status.busy": "2025-04-13T20:16:01.799002Z",
     "iopub.status.idle": "2025-04-13T20:16:06.044277Z",
     "shell.execute_reply": "2025-04-13T20:16:06.042757Z"
    },
    "papermill": {
     "duration": 4.259968,
     "end_time": "2025-04-13T20:16:06.046231",
     "exception": false,
     "start_time": "2025-04-13T20:16:01.786263",
     "status": "completed"
    },
    "tags": []
   },
   "outputs": [],
   "source": [
    "import pandas as pd\n",
    "import numpy as np\n",
    "import matplotlib.pyplot as plt\n",
    "%matplotlib inline\n",
    "import seaborn as sns\n",
    "import datetime\n",
    "import warnings\n",
    "warnings.filterwarnings('ignore')\n",
    "import re\n",
    "from scipy.sparse import hstack\n",
    "from sklearn.feature_extraction.text import TfidfVectorizer\n",
    "\n",
    "#sklearn\n",
    "from sklearn.preprocessing import LabelEncoder, OneHotEncoder, LabelBinarizer\n",
    "from xgboost.sklearn import XGBClassifier\n",
    "from sklearn.metrics import accuracy_score, ndcg_score\n",
    "from sklearn.base import BaseEstimator, TransformerMixin\n",
    "from sklearn.ensemble import RandomForestClassifier\n",
    "from xgboost import plot_importance\n",
    "from sklearn.model_selection import train_test_split"
   ]
  },
  {
   "cell_type": "markdown",
   "id": "055eb147",
   "metadata": {
    "papermill": {
     "duration": 0.008475,
     "end_time": "2025-04-13T20:16:06.063402",
     "exception": false,
     "start_time": "2025-04-13T20:16:06.054927",
     "status": "completed"
    },
    "tags": []
   },
   "source": [
    "# Reading Files:"
   ]
  },
  {
   "cell_type": "code",
   "execution_count": 3,
   "id": "d035a473",
   "metadata": {
    "execution": {
     "iopub.execute_input": "2025-04-13T20:16:06.081984Z",
     "iopub.status.busy": "2025-04-13T20:16:06.081459Z",
     "iopub.status.idle": "2025-04-13T20:16:19.626747Z",
     "shell.execute_reply": "2025-04-13T20:16:19.625337Z"
    },
    "papermill": {
     "duration": 13.556898,
     "end_time": "2025-04-13T20:16:19.628931",
     "exception": false,
     "start_time": "2025-04-13T20:16:06.072033",
     "status": "completed"
    },
    "tags": []
   },
   "outputs": [],
   "source": [
    "df_train = pd.read_csv('../input/airbnb-recruiting-new-user-bookings/train_users_2.csv.zip')\n",
    "df_test = pd.read_csv('../input/airbnb-recruiting-new-user-bookings/test_users.csv.zip')\n",
    "countries = pd.read_csv('../input/airbnb-recruiting-new-user-bookings/countries.csv.zip')\n",
    "sessions = pd.read_csv('../input/airbnb-recruiting-new-user-bookings/sessions.csv.zip')\n",
    "age_gender = pd.read_csv('../input/airbnb-recruiting-new-user-bookings/age_gender_bkts.csv.zip')"
   ]
  },
  {
   "cell_type": "code",
   "execution_count": 4,
   "id": "d16c1ec5",
   "metadata": {
    "execution": {
     "iopub.execute_input": "2025-04-13T20:16:19.648822Z",
     "iopub.status.busy": "2025-04-13T20:16:19.648475Z",
     "iopub.status.idle": "2025-04-13T20:16:19.681400Z",
     "shell.execute_reply": "2025-04-13T20:16:19.680321Z"
    },
    "papermill": {
     "duration": 0.045494,
     "end_time": "2025-04-13T20:16:19.683283",
     "exception": false,
     "start_time": "2025-04-13T20:16:19.637789",
     "status": "completed"
    },
    "tags": []
   },
   "outputs": [
    {
     "data": {
      "text/html": [
       "<div>\n",
       "<style scoped>\n",
       "    .dataframe tbody tr th:only-of-type {\n",
       "        vertical-align: middle;\n",
       "    }\n",
       "\n",
       "    .dataframe tbody tr th {\n",
       "        vertical-align: top;\n",
       "    }\n",
       "\n",
       "    .dataframe thead th {\n",
       "        text-align: right;\n",
       "    }\n",
       "</style>\n",
       "<table border=\"1\" class=\"dataframe\">\n",
       "  <thead>\n",
       "    <tr style=\"text-align: right;\">\n",
       "      <th></th>\n",
       "      <th>id</th>\n",
       "      <th>date_account_created</th>\n",
       "      <th>timestamp_first_active</th>\n",
       "      <th>date_first_booking</th>\n",
       "      <th>gender</th>\n",
       "      <th>age</th>\n",
       "      <th>signup_method</th>\n",
       "      <th>signup_flow</th>\n",
       "      <th>language</th>\n",
       "      <th>affiliate_channel</th>\n",
       "      <th>affiliate_provider</th>\n",
       "      <th>first_affiliate_tracked</th>\n",
       "      <th>signup_app</th>\n",
       "      <th>first_device_type</th>\n",
       "      <th>first_browser</th>\n",
       "      <th>country_destination</th>\n",
       "    </tr>\n",
       "  </thead>\n",
       "  <tbody>\n",
       "    <tr>\n",
       "      <th>0</th>\n",
       "      <td>gxn3p5htnn</td>\n",
       "      <td>2010-06-28</td>\n",
       "      <td>20090319043255</td>\n",
       "      <td>NaN</td>\n",
       "      <td>-unknown-</td>\n",
       "      <td>NaN</td>\n",
       "      <td>facebook</td>\n",
       "      <td>0</td>\n",
       "      <td>en</td>\n",
       "      <td>direct</td>\n",
       "      <td>direct</td>\n",
       "      <td>untracked</td>\n",
       "      <td>Web</td>\n",
       "      <td>Mac Desktop</td>\n",
       "      <td>Chrome</td>\n",
       "      <td>NDF</td>\n",
       "    </tr>\n",
       "    <tr>\n",
       "      <th>1</th>\n",
       "      <td>820tgsjxq7</td>\n",
       "      <td>2011-05-25</td>\n",
       "      <td>20090523174809</td>\n",
       "      <td>NaN</td>\n",
       "      <td>MALE</td>\n",
       "      <td>38.0</td>\n",
       "      <td>facebook</td>\n",
       "      <td>0</td>\n",
       "      <td>en</td>\n",
       "      <td>seo</td>\n",
       "      <td>google</td>\n",
       "      <td>untracked</td>\n",
       "      <td>Web</td>\n",
       "      <td>Mac Desktop</td>\n",
       "      <td>Chrome</td>\n",
       "      <td>NDF</td>\n",
       "    </tr>\n",
       "    <tr>\n",
       "      <th>2</th>\n",
       "      <td>4ft3gnwmtx</td>\n",
       "      <td>2010-09-28</td>\n",
       "      <td>20090609231247</td>\n",
       "      <td>2010-08-02</td>\n",
       "      <td>FEMALE</td>\n",
       "      <td>56.0</td>\n",
       "      <td>basic</td>\n",
       "      <td>3</td>\n",
       "      <td>en</td>\n",
       "      <td>direct</td>\n",
       "      <td>direct</td>\n",
       "      <td>untracked</td>\n",
       "      <td>Web</td>\n",
       "      <td>Windows Desktop</td>\n",
       "      <td>IE</td>\n",
       "      <td>US</td>\n",
       "    </tr>\n",
       "    <tr>\n",
       "      <th>3</th>\n",
       "      <td>bjjt8pjhuk</td>\n",
       "      <td>2011-12-05</td>\n",
       "      <td>20091031060129</td>\n",
       "      <td>2012-09-08</td>\n",
       "      <td>FEMALE</td>\n",
       "      <td>42.0</td>\n",
       "      <td>facebook</td>\n",
       "      <td>0</td>\n",
       "      <td>en</td>\n",
       "      <td>direct</td>\n",
       "      <td>direct</td>\n",
       "      <td>untracked</td>\n",
       "      <td>Web</td>\n",
       "      <td>Mac Desktop</td>\n",
       "      <td>Firefox</td>\n",
       "      <td>other</td>\n",
       "    </tr>\n",
       "    <tr>\n",
       "      <th>4</th>\n",
       "      <td>87mebub9p4</td>\n",
       "      <td>2010-09-14</td>\n",
       "      <td>20091208061105</td>\n",
       "      <td>2010-02-18</td>\n",
       "      <td>-unknown-</td>\n",
       "      <td>41.0</td>\n",
       "      <td>basic</td>\n",
       "      <td>0</td>\n",
       "      <td>en</td>\n",
       "      <td>direct</td>\n",
       "      <td>direct</td>\n",
       "      <td>untracked</td>\n",
       "      <td>Web</td>\n",
       "      <td>Mac Desktop</td>\n",
       "      <td>Chrome</td>\n",
       "      <td>US</td>\n",
       "    </tr>\n",
       "  </tbody>\n",
       "</table>\n",
       "</div>"
      ],
      "text/plain": [
       "           id date_account_created  timestamp_first_active date_first_booking  \\\n",
       "0  gxn3p5htnn           2010-06-28          20090319043255                NaN   \n",
       "1  820tgsjxq7           2011-05-25          20090523174809                NaN   \n",
       "2  4ft3gnwmtx           2010-09-28          20090609231247         2010-08-02   \n",
       "3  bjjt8pjhuk           2011-12-05          20091031060129         2012-09-08   \n",
       "4  87mebub9p4           2010-09-14          20091208061105         2010-02-18   \n",
       "\n",
       "      gender   age signup_method  signup_flow language affiliate_channel  \\\n",
       "0  -unknown-   NaN      facebook            0       en            direct   \n",
       "1       MALE  38.0      facebook            0       en               seo   \n",
       "2     FEMALE  56.0         basic            3       en            direct   \n",
       "3     FEMALE  42.0      facebook            0       en            direct   \n",
       "4  -unknown-  41.0         basic            0       en            direct   \n",
       "\n",
       "  affiliate_provider first_affiliate_tracked signup_app first_device_type  \\\n",
       "0             direct               untracked        Web       Mac Desktop   \n",
       "1             google               untracked        Web       Mac Desktop   \n",
       "2             direct               untracked        Web   Windows Desktop   \n",
       "3             direct               untracked        Web       Mac Desktop   \n",
       "4             direct               untracked        Web       Mac Desktop   \n",
       "\n",
       "  first_browser country_destination  \n",
       "0        Chrome                 NDF  \n",
       "1        Chrome                 NDF  \n",
       "2            IE                  US  \n",
       "3       Firefox               other  \n",
       "4        Chrome                  US  "
      ]
     },
     "execution_count": 4,
     "metadata": {},
     "output_type": "execute_result"
    }
   ],
   "source": [
    "df_train.head()"
   ]
  },
  {
   "cell_type": "code",
   "execution_count": 5,
   "id": "de947ade",
   "metadata": {
    "execution": {
     "iopub.execute_input": "2025-04-13T20:16:19.702701Z",
     "iopub.status.busy": "2025-04-13T20:16:19.702298Z",
     "iopub.status.idle": "2025-04-13T20:16:19.720418Z",
     "shell.execute_reply": "2025-04-13T20:16:19.719136Z"
    },
    "papermill": {
     "duration": 0.02998,
     "end_time": "2025-04-13T20:16:19.722131",
     "exception": false,
     "start_time": "2025-04-13T20:16:19.692151",
     "status": "completed"
    },
    "tags": []
   },
   "outputs": [
    {
     "data": {
      "text/html": [
       "<div>\n",
       "<style scoped>\n",
       "    .dataframe tbody tr th:only-of-type {\n",
       "        vertical-align: middle;\n",
       "    }\n",
       "\n",
       "    .dataframe tbody tr th {\n",
       "        vertical-align: top;\n",
       "    }\n",
       "\n",
       "    .dataframe thead th {\n",
       "        text-align: right;\n",
       "    }\n",
       "</style>\n",
       "<table border=\"1\" class=\"dataframe\">\n",
       "  <thead>\n",
       "    <tr style=\"text-align: right;\">\n",
       "      <th></th>\n",
       "      <th>id</th>\n",
       "      <th>date_account_created</th>\n",
       "      <th>timestamp_first_active</th>\n",
       "      <th>date_first_booking</th>\n",
       "      <th>gender</th>\n",
       "      <th>age</th>\n",
       "      <th>signup_method</th>\n",
       "      <th>signup_flow</th>\n",
       "      <th>language</th>\n",
       "      <th>affiliate_channel</th>\n",
       "      <th>affiliate_provider</th>\n",
       "      <th>first_affiliate_tracked</th>\n",
       "      <th>signup_app</th>\n",
       "      <th>first_device_type</th>\n",
       "      <th>first_browser</th>\n",
       "    </tr>\n",
       "  </thead>\n",
       "  <tbody>\n",
       "    <tr>\n",
       "      <th>0</th>\n",
       "      <td>5uwns89zht</td>\n",
       "      <td>2014-07-01</td>\n",
       "      <td>20140701000006</td>\n",
       "      <td>NaN</td>\n",
       "      <td>FEMALE</td>\n",
       "      <td>35.0</td>\n",
       "      <td>facebook</td>\n",
       "      <td>0</td>\n",
       "      <td>en</td>\n",
       "      <td>direct</td>\n",
       "      <td>direct</td>\n",
       "      <td>untracked</td>\n",
       "      <td>Moweb</td>\n",
       "      <td>iPhone</td>\n",
       "      <td>Mobile Safari</td>\n",
       "    </tr>\n",
       "    <tr>\n",
       "      <th>1</th>\n",
       "      <td>jtl0dijy2j</td>\n",
       "      <td>2014-07-01</td>\n",
       "      <td>20140701000051</td>\n",
       "      <td>NaN</td>\n",
       "      <td>-unknown-</td>\n",
       "      <td>NaN</td>\n",
       "      <td>basic</td>\n",
       "      <td>0</td>\n",
       "      <td>en</td>\n",
       "      <td>direct</td>\n",
       "      <td>direct</td>\n",
       "      <td>untracked</td>\n",
       "      <td>Moweb</td>\n",
       "      <td>iPhone</td>\n",
       "      <td>Mobile Safari</td>\n",
       "    </tr>\n",
       "    <tr>\n",
       "      <th>2</th>\n",
       "      <td>xx0ulgorjt</td>\n",
       "      <td>2014-07-01</td>\n",
       "      <td>20140701000148</td>\n",
       "      <td>NaN</td>\n",
       "      <td>-unknown-</td>\n",
       "      <td>NaN</td>\n",
       "      <td>basic</td>\n",
       "      <td>0</td>\n",
       "      <td>en</td>\n",
       "      <td>direct</td>\n",
       "      <td>direct</td>\n",
       "      <td>linked</td>\n",
       "      <td>Web</td>\n",
       "      <td>Windows Desktop</td>\n",
       "      <td>Chrome</td>\n",
       "    </tr>\n",
       "    <tr>\n",
       "      <th>3</th>\n",
       "      <td>6c6puo6ix0</td>\n",
       "      <td>2014-07-01</td>\n",
       "      <td>20140701000215</td>\n",
       "      <td>NaN</td>\n",
       "      <td>-unknown-</td>\n",
       "      <td>NaN</td>\n",
       "      <td>basic</td>\n",
       "      <td>0</td>\n",
       "      <td>en</td>\n",
       "      <td>direct</td>\n",
       "      <td>direct</td>\n",
       "      <td>linked</td>\n",
       "      <td>Web</td>\n",
       "      <td>Windows Desktop</td>\n",
       "      <td>IE</td>\n",
       "    </tr>\n",
       "    <tr>\n",
       "      <th>4</th>\n",
       "      <td>czqhjk3yfe</td>\n",
       "      <td>2014-07-01</td>\n",
       "      <td>20140701000305</td>\n",
       "      <td>NaN</td>\n",
       "      <td>-unknown-</td>\n",
       "      <td>NaN</td>\n",
       "      <td>basic</td>\n",
       "      <td>0</td>\n",
       "      <td>en</td>\n",
       "      <td>direct</td>\n",
       "      <td>direct</td>\n",
       "      <td>untracked</td>\n",
       "      <td>Web</td>\n",
       "      <td>Mac Desktop</td>\n",
       "      <td>Safari</td>\n",
       "    </tr>\n",
       "  </tbody>\n",
       "</table>\n",
       "</div>"
      ],
      "text/plain": [
       "           id date_account_created  timestamp_first_active  \\\n",
       "0  5uwns89zht           2014-07-01          20140701000006   \n",
       "1  jtl0dijy2j           2014-07-01          20140701000051   \n",
       "2  xx0ulgorjt           2014-07-01          20140701000148   \n",
       "3  6c6puo6ix0           2014-07-01          20140701000215   \n",
       "4  czqhjk3yfe           2014-07-01          20140701000305   \n",
       "\n",
       "   date_first_booking     gender   age signup_method  signup_flow language  \\\n",
       "0                 NaN     FEMALE  35.0      facebook            0       en   \n",
       "1                 NaN  -unknown-   NaN         basic            0       en   \n",
       "2                 NaN  -unknown-   NaN         basic            0       en   \n",
       "3                 NaN  -unknown-   NaN         basic            0       en   \n",
       "4                 NaN  -unknown-   NaN         basic            0       en   \n",
       "\n",
       "  affiliate_channel affiliate_provider first_affiliate_tracked signup_app  \\\n",
       "0            direct             direct               untracked      Moweb   \n",
       "1            direct             direct               untracked      Moweb   \n",
       "2            direct             direct                  linked        Web   \n",
       "3            direct             direct                  linked        Web   \n",
       "4            direct             direct               untracked        Web   \n",
       "\n",
       "  first_device_type  first_browser  \n",
       "0            iPhone  Mobile Safari  \n",
       "1            iPhone  Mobile Safari  \n",
       "2   Windows Desktop         Chrome  \n",
       "3   Windows Desktop             IE  \n",
       "4       Mac Desktop         Safari  "
      ]
     },
     "execution_count": 5,
     "metadata": {},
     "output_type": "execute_result"
    }
   ],
   "source": [
    "df_test.head()"
   ]
  },
  {
   "cell_type": "code",
   "execution_count": 6,
   "id": "75c65f43",
   "metadata": {
    "execution": {
     "iopub.execute_input": "2025-04-13T20:16:19.743641Z",
     "iopub.status.busy": "2025-04-13T20:16:19.743257Z",
     "iopub.status.idle": "2025-04-13T20:16:19.754989Z",
     "shell.execute_reply": "2025-04-13T20:16:19.753889Z"
    },
    "papermill": {
     "duration": 0.023682,
     "end_time": "2025-04-13T20:16:19.756791",
     "exception": false,
     "start_time": "2025-04-13T20:16:19.733109",
     "status": "completed"
    },
    "tags": []
   },
   "outputs": [
    {
     "data": {
      "text/html": [
       "<div>\n",
       "<style scoped>\n",
       "    .dataframe tbody tr th:only-of-type {\n",
       "        vertical-align: middle;\n",
       "    }\n",
       "\n",
       "    .dataframe tbody tr th {\n",
       "        vertical-align: top;\n",
       "    }\n",
       "\n",
       "    .dataframe thead th {\n",
       "        text-align: right;\n",
       "    }\n",
       "</style>\n",
       "<table border=\"1\" class=\"dataframe\">\n",
       "  <thead>\n",
       "    <tr style=\"text-align: right;\">\n",
       "      <th></th>\n",
       "      <th>user_id</th>\n",
       "      <th>action</th>\n",
       "      <th>action_type</th>\n",
       "      <th>action_detail</th>\n",
       "      <th>device_type</th>\n",
       "      <th>secs_elapsed</th>\n",
       "    </tr>\n",
       "  </thead>\n",
       "  <tbody>\n",
       "    <tr>\n",
       "      <th>0</th>\n",
       "      <td>d1mm9tcy42</td>\n",
       "      <td>lookup</td>\n",
       "      <td>NaN</td>\n",
       "      <td>NaN</td>\n",
       "      <td>Windows Desktop</td>\n",
       "      <td>319.0</td>\n",
       "    </tr>\n",
       "    <tr>\n",
       "      <th>1</th>\n",
       "      <td>d1mm9tcy42</td>\n",
       "      <td>search_results</td>\n",
       "      <td>click</td>\n",
       "      <td>view_search_results</td>\n",
       "      <td>Windows Desktop</td>\n",
       "      <td>67753.0</td>\n",
       "    </tr>\n",
       "    <tr>\n",
       "      <th>2</th>\n",
       "      <td>d1mm9tcy42</td>\n",
       "      <td>lookup</td>\n",
       "      <td>NaN</td>\n",
       "      <td>NaN</td>\n",
       "      <td>Windows Desktop</td>\n",
       "      <td>301.0</td>\n",
       "    </tr>\n",
       "    <tr>\n",
       "      <th>3</th>\n",
       "      <td>d1mm9tcy42</td>\n",
       "      <td>search_results</td>\n",
       "      <td>click</td>\n",
       "      <td>view_search_results</td>\n",
       "      <td>Windows Desktop</td>\n",
       "      <td>22141.0</td>\n",
       "    </tr>\n",
       "    <tr>\n",
       "      <th>4</th>\n",
       "      <td>d1mm9tcy42</td>\n",
       "      <td>lookup</td>\n",
       "      <td>NaN</td>\n",
       "      <td>NaN</td>\n",
       "      <td>Windows Desktop</td>\n",
       "      <td>435.0</td>\n",
       "    </tr>\n",
       "  </tbody>\n",
       "</table>\n",
       "</div>"
      ],
      "text/plain": [
       "      user_id          action action_type        action_detail  \\\n",
       "0  d1mm9tcy42          lookup         NaN                  NaN   \n",
       "1  d1mm9tcy42  search_results       click  view_search_results   \n",
       "2  d1mm9tcy42          lookup         NaN                  NaN   \n",
       "3  d1mm9tcy42  search_results       click  view_search_results   \n",
       "4  d1mm9tcy42          lookup         NaN                  NaN   \n",
       "\n",
       "       device_type  secs_elapsed  \n",
       "0  Windows Desktop         319.0  \n",
       "1  Windows Desktop       67753.0  \n",
       "2  Windows Desktop         301.0  \n",
       "3  Windows Desktop       22141.0  \n",
       "4  Windows Desktop         435.0  "
      ]
     },
     "execution_count": 6,
     "metadata": {},
     "output_type": "execute_result"
    }
   ],
   "source": [
    "sessions.head()"
   ]
  },
  {
   "cell_type": "markdown",
   "id": "4ccdfbd6",
   "metadata": {
    "papermill": {
     "duration": 0.009075,
     "end_time": "2025-04-13T20:16:19.775636",
     "exception": false,
     "start_time": "2025-04-13T20:16:19.766561",
     "status": "completed"
    },
    "tags": []
   },
   "source": [
    "# EDA:"
   ]
  },
  {
   "cell_type": "code",
   "execution_count": 7,
   "id": "4210accd",
   "metadata": {
    "execution": {
     "iopub.execute_input": "2025-04-13T20:16:19.795427Z",
     "iopub.status.busy": "2025-04-13T20:16:19.795051Z",
     "iopub.status.idle": "2025-04-13T20:16:19.841444Z",
     "shell.execute_reply": "2025-04-13T20:16:19.840325Z"
    },
    "papermill": {
     "duration": 0.058648,
     "end_time": "2025-04-13T20:16:19.843466",
     "exception": false,
     "start_time": "2025-04-13T20:16:19.784818",
     "status": "completed"
    },
    "tags": []
   },
   "outputs": [
    {
     "data": {
      "text/html": [
       "<div>\n",
       "<style scoped>\n",
       "    .dataframe tbody tr th:only-of-type {\n",
       "        vertical-align: middle;\n",
       "    }\n",
       "\n",
       "    .dataframe tbody tr th {\n",
       "        vertical-align: top;\n",
       "    }\n",
       "\n",
       "    .dataframe thead th {\n",
       "        text-align: right;\n",
       "    }\n",
       "</style>\n",
       "<table border=\"1\" class=\"dataframe\">\n",
       "  <thead>\n",
       "    <tr style=\"text-align: right;\">\n",
       "      <th></th>\n",
       "      <th>timestamp_first_active</th>\n",
       "      <th>age</th>\n",
       "      <th>signup_flow</th>\n",
       "    </tr>\n",
       "  </thead>\n",
       "  <tbody>\n",
       "    <tr>\n",
       "      <th>count</th>\n",
       "      <td>2.134510e+05</td>\n",
       "      <td>125461.000000</td>\n",
       "      <td>213451.000000</td>\n",
       "    </tr>\n",
       "    <tr>\n",
       "      <th>mean</th>\n",
       "      <td>2.013085e+13</td>\n",
       "      <td>49.668335</td>\n",
       "      <td>3.267387</td>\n",
       "    </tr>\n",
       "    <tr>\n",
       "      <th>std</th>\n",
       "      <td>9.253717e+09</td>\n",
       "      <td>155.666612</td>\n",
       "      <td>7.637707</td>\n",
       "    </tr>\n",
       "    <tr>\n",
       "      <th>min</th>\n",
       "      <td>2.009032e+13</td>\n",
       "      <td>1.000000</td>\n",
       "      <td>0.000000</td>\n",
       "    </tr>\n",
       "    <tr>\n",
       "      <th>25%</th>\n",
       "      <td>2.012123e+13</td>\n",
       "      <td>28.000000</td>\n",
       "      <td>0.000000</td>\n",
       "    </tr>\n",
       "    <tr>\n",
       "      <th>50%</th>\n",
       "      <td>2.013091e+13</td>\n",
       "      <td>34.000000</td>\n",
       "      <td>0.000000</td>\n",
       "    </tr>\n",
       "    <tr>\n",
       "      <th>75%</th>\n",
       "      <td>2.014031e+13</td>\n",
       "      <td>43.000000</td>\n",
       "      <td>0.000000</td>\n",
       "    </tr>\n",
       "    <tr>\n",
       "      <th>max</th>\n",
       "      <td>2.014063e+13</td>\n",
       "      <td>2014.000000</td>\n",
       "      <td>25.000000</td>\n",
       "    </tr>\n",
       "  </tbody>\n",
       "</table>\n",
       "</div>"
      ],
      "text/plain": [
       "       timestamp_first_active            age    signup_flow\n",
       "count            2.134510e+05  125461.000000  213451.000000\n",
       "mean             2.013085e+13      49.668335       3.267387\n",
       "std              9.253717e+09     155.666612       7.637707\n",
       "min              2.009032e+13       1.000000       0.000000\n",
       "25%              2.012123e+13      28.000000       0.000000\n",
       "50%              2.013091e+13      34.000000       0.000000\n",
       "75%              2.014031e+13      43.000000       0.000000\n",
       "max              2.014063e+13    2014.000000      25.000000"
      ]
     },
     "execution_count": 7,
     "metadata": {},
     "output_type": "execute_result"
    }
   ],
   "source": [
    "df_train.describe()"
   ]
  },
  {
   "cell_type": "code",
   "execution_count": 8,
   "id": "3fcd9d78",
   "metadata": {
    "execution": {
     "iopub.execute_input": "2025-04-13T20:16:19.864507Z",
     "iopub.status.busy": "2025-04-13T20:16:19.864113Z",
     "iopub.status.idle": "2025-04-13T20:16:20.023752Z",
     "shell.execute_reply": "2025-04-13T20:16:20.022107Z"
    },
    "papermill": {
     "duration": 0.172029,
     "end_time": "2025-04-13T20:16:20.025666",
     "exception": false,
     "start_time": "2025-04-13T20:16:19.853637",
     "status": "completed"
    },
    "tags": []
   },
   "outputs": [
    {
     "name": "stdout",
     "output_type": "stream",
     "text": [
      "<class 'pandas.core.frame.DataFrame'>\n",
      "RangeIndex: 213451 entries, 0 to 213450\n",
      "Data columns (total 16 columns):\n",
      " #   Column                   Non-Null Count   Dtype  \n",
      "---  ------                   --------------   -----  \n",
      " 0   id                       213451 non-null  object \n",
      " 1   date_account_created     213451 non-null  object \n",
      " 2   timestamp_first_active   213451 non-null  int64  \n",
      " 3   date_first_booking       88908 non-null   object \n",
      " 4   gender                   213451 non-null  object \n",
      " 5   age                      125461 non-null  float64\n",
      " 6   signup_method            213451 non-null  object \n",
      " 7   signup_flow              213451 non-null  int64  \n",
      " 8   language                 213451 non-null  object \n",
      " 9   affiliate_channel        213451 non-null  object \n",
      " 10  affiliate_provider       213451 non-null  object \n",
      " 11  first_affiliate_tracked  207386 non-null  object \n",
      " 12  signup_app               213451 non-null  object \n",
      " 13  first_device_type        213451 non-null  object \n",
      " 14  first_browser            213451 non-null  object \n",
      " 15  country_destination      213451 non-null  object \n",
      "dtypes: float64(1), int64(2), object(13)\n",
      "memory usage: 26.1+ MB\n"
     ]
    }
   ],
   "source": [
    "df_train.info()"
   ]
  },
  {
   "cell_type": "code",
   "execution_count": 9,
   "id": "1b16a570",
   "metadata": {
    "execution": {
     "iopub.execute_input": "2025-04-13T20:16:20.048837Z",
     "iopub.status.busy": "2025-04-13T20:16:20.048495Z",
     "iopub.status.idle": "2025-04-13T20:16:20.092548Z",
     "shell.execute_reply": "2025-04-13T20:16:20.091285Z"
    },
    "papermill": {
     "duration": 0.058943,
     "end_time": "2025-04-13T20:16:20.094618",
     "exception": false,
     "start_time": "2025-04-13T20:16:20.035675",
     "status": "completed"
    },
    "tags": []
   },
   "outputs": [
    {
     "name": "stdout",
     "output_type": "stream",
     "text": [
      "<class 'pandas.core.frame.DataFrame'>\n",
      "RangeIndex: 62096 entries, 0 to 62095\n",
      "Data columns (total 15 columns):\n",
      " #   Column                   Non-Null Count  Dtype  \n",
      "---  ------                   --------------  -----  \n",
      " 0   id                       62096 non-null  object \n",
      " 1   date_account_created     62096 non-null  object \n",
      " 2   timestamp_first_active   62096 non-null  int64  \n",
      " 3   date_first_booking       0 non-null      float64\n",
      " 4   gender                   62096 non-null  object \n",
      " 5   age                      33220 non-null  float64\n",
      " 6   signup_method            62096 non-null  object \n",
      " 7   signup_flow              62096 non-null  int64  \n",
      " 8   language                 62096 non-null  object \n",
      " 9   affiliate_channel        62096 non-null  object \n",
      " 10  affiliate_provider       62096 non-null  object \n",
      " 11  first_affiliate_tracked  62076 non-null  object \n",
      " 12  signup_app               62096 non-null  object \n",
      " 13  first_device_type        62096 non-null  object \n",
      " 14  first_browser            62096 non-null  object \n",
      "dtypes: float64(2), int64(2), object(11)\n",
      "memory usage: 7.1+ MB\n"
     ]
    }
   ],
   "source": [
    "df_test.info()"
   ]
  },
  {
   "cell_type": "code",
   "execution_count": 10,
   "id": "e47f4f3b",
   "metadata": {
    "execution": {
     "iopub.execute_input": "2025-04-13T20:16:20.115786Z",
     "iopub.status.busy": "2025-04-13T20:16:20.115408Z",
     "iopub.status.idle": "2025-04-13T20:16:20.257342Z",
     "shell.execute_reply": "2025-04-13T20:16:20.256136Z"
    },
    "papermill": {
     "duration": 0.154659,
     "end_time": "2025-04-13T20:16:20.259312",
     "exception": false,
     "start_time": "2025-04-13T20:16:20.104653",
     "status": "completed"
    },
    "tags": []
   },
   "outputs": [
    {
     "data": {
      "text/plain": [
       "id                              0\n",
       "date_account_created            0\n",
       "timestamp_first_active          0\n",
       "date_first_booking         124543\n",
       "gender                          0\n",
       "age                         87990\n",
       "signup_method                   0\n",
       "signup_flow                     0\n",
       "language                        0\n",
       "affiliate_channel               0\n",
       "affiliate_provider              0\n",
       "first_affiliate_tracked      6065\n",
       "signup_app                      0\n",
       "first_device_type               0\n",
       "first_browser                   0\n",
       "country_destination             0\n",
       "dtype: int64"
      ]
     },
     "execution_count": 10,
     "metadata": {},
     "output_type": "execute_result"
    }
   ],
   "source": [
    "df_train.isna().sum()"
   ]
  },
  {
   "cell_type": "code",
   "execution_count": 11,
   "id": "95a58008",
   "metadata": {
    "execution": {
     "iopub.execute_input": "2025-04-13T20:16:20.281086Z",
     "iopub.status.busy": "2025-04-13T20:16:20.280756Z",
     "iopub.status.idle": "2025-04-13T20:16:20.322804Z",
     "shell.execute_reply": "2025-04-13T20:16:20.321558Z"
    },
    "papermill": {
     "duration": 0.054519,
     "end_time": "2025-04-13T20:16:20.324505",
     "exception": false,
     "start_time": "2025-04-13T20:16:20.269986",
     "status": "completed"
    },
    "tags": []
   },
   "outputs": [
    {
     "data": {
      "text/plain": [
       "id                             0\n",
       "date_account_created           0\n",
       "timestamp_first_active         0\n",
       "date_first_booking         62096\n",
       "gender                         0\n",
       "age                        28876\n",
       "signup_method                  0\n",
       "signup_flow                    0\n",
       "language                       0\n",
       "affiliate_channel              0\n",
       "affiliate_provider             0\n",
       "first_affiliate_tracked       20\n",
       "signup_app                     0\n",
       "first_device_type              0\n",
       "first_browser                  0\n",
       "dtype: int64"
      ]
     },
     "execution_count": 11,
     "metadata": {},
     "output_type": "execute_result"
    }
   ],
   "source": [
    "df_test.isna().sum()"
   ]
  },
  {
   "cell_type": "code",
   "execution_count": 12,
   "id": "2c2c1f21",
   "metadata": {
    "execution": {
     "iopub.execute_input": "2025-04-13T20:16:20.345713Z",
     "iopub.status.busy": "2025-04-13T20:16:20.345327Z",
     "iopub.status.idle": "2025-04-13T20:16:20.370040Z",
     "shell.execute_reply": "2025-04-13T20:16:20.368973Z"
    },
    "papermill": {
     "duration": 0.037317,
     "end_time": "2025-04-13T20:16:20.371786",
     "exception": false,
     "start_time": "2025-04-13T20:16:20.334469",
     "status": "completed"
    },
    "tags": []
   },
   "outputs": [
    {
     "data": {
      "text/plain": [
       "1335"
      ]
     },
     "execution_count": 12,
     "metadata": {},
     "output_type": "execute_result"
    }
   ],
   "source": [
    "df_train[(df_train['age'] >= 100) | (df_train['age'] <= 13)].value_counts().sum()"
   ]
  },
  {
   "cell_type": "code",
   "execution_count": 13,
   "id": "37cbef8e",
   "metadata": {
    "execution": {
     "iopub.execute_input": "2025-04-13T20:16:20.393860Z",
     "iopub.status.busy": "2025-04-13T20:16:20.393492Z",
     "iopub.status.idle": "2025-04-13T20:16:20.406690Z",
     "shell.execute_reply": "2025-04-13T20:16:20.405682Z"
    },
    "papermill": {
     "duration": 0.026632,
     "end_time": "2025-04-13T20:16:20.408619",
     "exception": false,
     "start_time": "2025-04-13T20:16:20.381987",
     "status": "completed"
    },
    "tags": []
   },
   "outputs": [
    {
     "data": {
      "text/plain": [
       "0"
      ]
     },
     "execution_count": 13,
     "metadata": {},
     "output_type": "execute_result"
    }
   ],
   "source": [
    "df_test[(df_test['age'] >= 100) | (df_test['age'] <= 13)].value_counts().sum()"
   ]
  },
  {
   "cell_type": "markdown",
   "id": "71cfc2af",
   "metadata": {
    "papermill": {
     "duration": 0.010012,
     "end_time": "2025-04-13T20:16:20.429378",
     "exception": false,
     "start_time": "2025-04-13T20:16:20.419366",
     "status": "completed"
    },
    "tags": []
   },
   "source": [
    "# Preprocessing:"
   ]
  },
  {
   "cell_type": "markdown",
   "id": "9e2467bb",
   "metadata": {
    "papermill": {
     "duration": 0.010868,
     "end_time": "2025-04-13T20:16:20.450712",
     "exception": false,
     "start_time": "2025-04-13T20:16:20.439844",
     "status": "completed"
    },
    "tags": []
   },
   "source": [
    "## Dates:"
   ]
  },
  {
   "cell_type": "code",
   "execution_count": 14,
   "id": "54f9c470",
   "metadata": {
    "execution": {
     "iopub.execute_input": "2025-04-13T20:16:20.472564Z",
     "iopub.status.busy": "2025-04-13T20:16:20.472162Z",
     "iopub.status.idle": "2025-04-13T20:16:20.478725Z",
     "shell.execute_reply": "2025-04-13T20:16:20.477341Z"
    },
    "papermill": {
     "duration": 0.020942,
     "end_time": "2025-04-13T20:16:20.481904",
     "exception": false,
     "start_time": "2025-04-13T20:16:20.460962",
     "status": "completed"
    },
    "tags": []
   },
   "outputs": [],
   "source": [
    "def extract_date_features(df, column_name, prefix):\n",
    "    \"\"\"\n",
    "    Extracts year, month, and day features from a date column and drops the original column.\n",
    "    \n",
    "    Parameters:\n",
    "        df (pd.DataFrame): The DataFrame containing the date column.\n",
    "        column_name (str): The name of the date column to process.\n",
    "        prefix (str): The prefix for the new feature columns.\n",
    "    \n",
    "    Returns:\n",
    "        pd.DataFrame: DataFrame with extracted date features.\n",
    "    \"\"\"\n",
    "    df[column_name] = pd.to_datetime(df[column_name], format='%Y-%m-%d', errors='coerce')\n",
    "    df[f'{prefix}_year'] = df[column_name].dt.year\n",
    "    df[f'{prefix}_month'] = df[column_name].dt.month\n",
    "    df[f'{prefix}_day'] = df[column_name].dt.day\n",
    "    return df.drop(columns=[column_name])\n"
   ]
  },
  {
   "cell_type": "code",
   "execution_count": 15,
   "id": "57abd982",
   "metadata": {
    "execution": {
     "iopub.execute_input": "2025-04-13T20:16:20.503921Z",
     "iopub.status.busy": "2025-04-13T20:16:20.503583Z",
     "iopub.status.idle": "2025-04-13T20:16:20.601741Z",
     "shell.execute_reply": "2025-04-13T20:16:20.600553Z"
    },
    "papermill": {
     "duration": 0.111469,
     "end_time": "2025-04-13T20:16:20.603764",
     "exception": false,
     "start_time": "2025-04-13T20:16:20.492295",
     "status": "completed"
    },
    "tags": []
   },
   "outputs": [],
   "source": [
    "df_train = extract_date_features(df_train, 'date_account_created', 'dac')\n",
    "df_test = extract_date_features(df_test, 'date_account_created', 'dac')\n"
   ]
  },
  {
   "cell_type": "code",
   "execution_count": 16,
   "id": "0cfd5683",
   "metadata": {
    "execution": {
     "iopub.execute_input": "2025-04-13T20:16:20.625464Z",
     "iopub.status.busy": "2025-04-13T20:16:20.625090Z",
     "iopub.status.idle": "2025-04-13T20:16:20.669250Z",
     "shell.execute_reply": "2025-04-13T20:16:20.668152Z"
    },
    "papermill": {
     "duration": 0.057355,
     "end_time": "2025-04-13T20:16:20.671403",
     "exception": false,
     "start_time": "2025-04-13T20:16:20.614048",
     "status": "completed"
    },
    "tags": []
   },
   "outputs": [],
   "source": [
    "df_train.drop('date_first_booking', inplace = True, axis = 1)\n",
    "df_test.drop('date_first_booking', inplace = True, axis = 1)"
   ]
  },
  {
   "cell_type": "code",
   "execution_count": 17,
   "id": "38c10108",
   "metadata": {
    "execution": {
     "iopub.execute_input": "2025-04-13T20:16:20.693416Z",
     "iopub.status.busy": "2025-04-13T20:16:20.693051Z",
     "iopub.status.idle": "2025-04-13T20:16:20.699410Z",
     "shell.execute_reply": "2025-04-13T20:16:20.698343Z"
    },
    "papermill": {
     "duration": 0.019523,
     "end_time": "2025-04-13T20:16:20.701329",
     "exception": false,
     "start_time": "2025-04-13T20:16:20.681806",
     "status": "completed"
    },
    "tags": []
   },
   "outputs": [],
   "source": [
    "def extract_timestamp_features(df, column_name):\n",
    "    \"\"\"\n",
    "    Extracts year, month, day, hour, minute, and second from a timestamp column.\n",
    "    \n",
    "    Parameters:\n",
    "        df (pd.DataFrame): DataFrame containing the timestamp column.\n",
    "        column_name (str): Name of the timestamp column to process.\n",
    "    \n",
    "    Returns:\n",
    "        pd.DataFrame: DataFrame with extracted features.\n",
    "    \"\"\"\n",
    "    # Ensure the column is a string\n",
    "    df[column_name] = df[column_name].astype(str)\n",
    "    \n",
    "    # Extract features\n",
    "    df[f'{column_name}_year'] = df[column_name].str[:4].astype(int)\n",
    "    df[f'{column_name}_month'] = df[column_name].str[4:6].astype(int)\n",
    "    df[f'{column_name}_day'] = df[column_name].str[6:8].astype(int)\n",
    "    df[f'{column_name}_hour'] = df[column_name].str[8:10].astype(int)\n",
    "    df[f'{column_name}_minute'] = df[column_name].str[10:12].astype(int)\n",
    "    df[f'{column_name}_second'] = df[column_name].str[12:14].astype(int)\n",
    "    \n",
    "    # Optionally, drop the original timestamp column\n",
    "    df = df.drop([column_name], axis=1)\n",
    "    \n",
    "    return df"
   ]
  },
  {
   "cell_type": "code",
   "execution_count": 18,
   "id": "ee417ad6",
   "metadata": {
    "execution": {
     "iopub.execute_input": "2025-04-13T20:16:20.723248Z",
     "iopub.status.busy": "2025-04-13T20:16:20.722868Z",
     "iopub.status.idle": "2025-04-13T20:16:21.371118Z",
     "shell.execute_reply": "2025-04-13T20:16:21.370078Z"
    },
    "papermill": {
     "duration": 0.661556,
     "end_time": "2025-04-13T20:16:21.373227",
     "exception": false,
     "start_time": "2025-04-13T20:16:20.711671",
     "status": "completed"
    },
    "tags": []
   },
   "outputs": [],
   "source": [
    "df_train = extract_timestamp_features(df_train, 'timestamp_first_active')\n",
    "df_test = extract_timestamp_features(df_test, 'timestamp_first_active')"
   ]
  },
  {
   "cell_type": "markdown",
   "id": "efa326f1",
   "metadata": {
    "papermill": {
     "duration": 0.010047,
     "end_time": "2025-04-13T20:16:21.393897",
     "exception": false,
     "start_time": "2025-04-13T20:16:21.383850",
     "status": "completed"
    },
    "tags": []
   },
   "source": [
    "## Sessions:"
   ]
  },
  {
   "cell_type": "code",
   "execution_count": 19,
   "id": "9acfbe7e",
   "metadata": {
    "execution": {
     "iopub.execute_input": "2025-04-13T20:16:21.416246Z",
     "iopub.status.busy": "2025-04-13T20:16:21.415865Z",
     "iopub.status.idle": "2025-04-13T20:16:38.409454Z",
     "shell.execute_reply": "2025-04-13T20:16:38.408274Z"
    },
    "papermill": {
     "duration": 17.007077,
     "end_time": "2025-04-13T20:16:38.411572",
     "exception": false,
     "start_time": "2025-04-13T20:16:21.404495",
     "status": "completed"
    },
    "tags": []
   },
   "outputs": [],
   "source": [
    "sessions = sessions.groupby(\"user_id\", as_index= False).agg(lambda x:x.tolist())"
   ]
  },
  {
   "cell_type": "code",
   "execution_count": 20,
   "id": "e5788a1b",
   "metadata": {
    "execution": {
     "iopub.execute_input": "2025-04-13T20:16:38.437005Z",
     "iopub.status.busy": "2025-04-13T20:16:38.436645Z",
     "iopub.status.idle": "2025-04-13T20:16:38.445005Z",
     "shell.execute_reply": "2025-04-13T20:16:38.443316Z"
    },
    "papermill": {
     "duration": 0.0237,
     "end_time": "2025-04-13T20:16:38.446968",
     "exception": false,
     "start_time": "2025-04-13T20:16:38.423268",
     "status": "completed"
    },
    "tags": []
   },
   "outputs": [],
   "source": [
    "def convert_to_set(device):\n",
    "    device = [str(i) for i in device]\n",
    "    device = [re.sub(\"nan\",\"\",i) for i in device]\n",
    "    device = \",\".join(set(device))\n",
    "    \n",
    "    return device\n",
    "\n",
    "def convert_the_time(time):\n",
    "    \n",
    "    float_time = []\n",
    "    time = [str(i) for i in time]\n",
    "    time = [re.sub(\"nan\",\"\",i) for i in time]\n",
    "    \n",
    "    for i in time:\n",
    "        try:\n",
    "            float_time.append(float(i))\n",
    "        except ValueError :\n",
    "            continue\n",
    "\n",
    "\n",
    "    time = sum(float_time)\n",
    "    \n",
    "    return time\n",
    "\n",
    "def convert_to_string(action):\n",
    "    action = [str(i) for i in action]\n",
    "    action = [re.sub(\"nan\",\"\",i) for i in action]\n",
    "    action = \",\".join(action)\n",
    "    \n",
    "    return action"
   ]
  },
  {
   "cell_type": "code",
   "execution_count": 21,
   "id": "6ccf9405",
   "metadata": {
    "execution": {
     "iopub.execute_input": "2025-04-13T20:16:38.471278Z",
     "iopub.status.busy": "2025-04-13T20:16:38.470860Z",
     "iopub.status.idle": "2025-04-13T20:17:31.107233Z",
     "shell.execute_reply": "2025-04-13T20:17:31.106088Z"
    },
    "papermill": {
     "duration": 52.651562,
     "end_time": "2025-04-13T20:17:31.109305",
     "exception": false,
     "start_time": "2025-04-13T20:16:38.457743",
     "status": "completed"
    },
    "tags": []
   },
   "outputs": [],
   "source": [
    "sessions[\"action\"] = sessions[\"action\"].apply(convert_to_string)\n",
    "sessions[\"action_type\"] = sessions[\"action_type\"].apply(convert_to_string)\n",
    "sessions[\"action_detail\"] = sessions[\"action_detail\"].apply(convert_to_string)\n",
    "sessions['device_type'] =sessions['device_type'].apply(convert_to_set)\n",
    "sessions['secs_elapsed'] = sessions['secs_elapsed'].apply(convert_the_time)"
   ]
  },
  {
   "cell_type": "code",
   "execution_count": 22,
   "id": "0ea1e13e",
   "metadata": {
    "execution": {
     "iopub.execute_input": "2025-04-13T20:17:31.131875Z",
     "iopub.status.busy": "2025-04-13T20:17:31.131536Z",
     "iopub.status.idle": "2025-04-13T20:17:31.143725Z",
     "shell.execute_reply": "2025-04-13T20:17:31.142343Z"
    },
    "papermill": {
     "duration": 0.025446,
     "end_time": "2025-04-13T20:17:31.145551",
     "exception": false,
     "start_time": "2025-04-13T20:17:31.120105",
     "status": "completed"
    },
    "tags": []
   },
   "outputs": [
    {
     "data": {
      "text/html": [
       "<div>\n",
       "<style scoped>\n",
       "    .dataframe tbody tr th:only-of-type {\n",
       "        vertical-align: middle;\n",
       "    }\n",
       "\n",
       "    .dataframe tbody tr th {\n",
       "        vertical-align: top;\n",
       "    }\n",
       "\n",
       "    .dataframe thead th {\n",
       "        text-align: right;\n",
       "    }\n",
       "</style>\n",
       "<table border=\"1\" class=\"dataframe\">\n",
       "  <thead>\n",
       "    <tr style=\"text-align: right;\">\n",
       "      <th></th>\n",
       "      <th>user_id</th>\n",
       "      <th>action</th>\n",
       "      <th>action_type</th>\n",
       "      <th>action_detail</th>\n",
       "      <th>device_type</th>\n",
       "      <th>secs_elapsed</th>\n",
       "    </tr>\n",
       "  </thead>\n",
       "  <tbody>\n",
       "    <tr>\n",
       "      <th>0</th>\n",
       "      <td>00023iyk9l</td>\n",
       "      <td>index,dashboard,header_userpic,dashboard,callb...</td>\n",
       "      <td>view,view,data,view,partner_callback,message_p...</td>\n",
       "      <td>view_search_results,dashboard,header_userpic,d...</td>\n",
       "      <td>Mac Desktop,iPhone</td>\n",
       "      <td>867896.0</td>\n",
       "    </tr>\n",
       "    <tr>\n",
       "      <th>1</th>\n",
       "      <td>0010k6l0om</td>\n",
       "      <td>search_results,show,personalize,show,search_re...</td>\n",
       "      <td>click,view,data,,click,click,,data,view,partne...</td>\n",
       "      <td>view_search_results,p3,wishlist_content_update...</td>\n",
       "      <td>Mac Desktop</td>\n",
       "      <td>586543.0</td>\n",
       "    </tr>\n",
       "    <tr>\n",
       "      <th>2</th>\n",
       "      <td>001wyh0pz8</td>\n",
       "      <td>search,search,search,show,social_connections,i...</td>\n",
       "      <td>click,click,click,view,data,-unknown-,view,-un...</td>\n",
       "      <td>view_search_results,view_search_results,view_s...</td>\n",
       "      <td>Android App Unknown Phone/Tablet</td>\n",
       "      <td>282965.0</td>\n",
       "    </tr>\n",
       "    <tr>\n",
       "      <th>3</th>\n",
       "      <td>0028jgx1x1</td>\n",
       "      <td>show,reviews,show,search,show,search,reviews,c...</td>\n",
       "      <td>view,data,view,click,view,click,data,submit,-u...</td>\n",
       "      <td>user_profile,listing_reviews,p3,view_search_re...</td>\n",
       "      <td>-unknown-,Android Phone</td>\n",
       "      <td>297010.0</td>\n",
       "    </tr>\n",
       "    <tr>\n",
       "      <th>4</th>\n",
       "      <td>002qnbzfs5</td>\n",
       "      <td>social_connections,payment_methods,create,show...</td>\n",
       "      <td>data,-unknown-,-unknown-,view,data,data,data,,...</td>\n",
       "      <td>user_social_connections,-unknown-,-unknown-,us...</td>\n",
       "      <td>-unknown-,iPhone</td>\n",
       "      <td>6487080.0</td>\n",
       "    </tr>\n",
       "  </tbody>\n",
       "</table>\n",
       "</div>"
      ],
      "text/plain": [
       "      user_id                                             action  \\\n",
       "0  00023iyk9l  index,dashboard,header_userpic,dashboard,callb...   \n",
       "1  0010k6l0om  search_results,show,personalize,show,search_re...   \n",
       "2  001wyh0pz8  search,search,search,show,social_connections,i...   \n",
       "3  0028jgx1x1  show,reviews,show,search,show,search,reviews,c...   \n",
       "4  002qnbzfs5  social_connections,payment_methods,create,show...   \n",
       "\n",
       "                                         action_type  \\\n",
       "0  view,view,data,view,partner_callback,message_p...   \n",
       "1  click,view,data,,click,click,,data,view,partne...   \n",
       "2  click,click,click,view,data,-unknown-,view,-un...   \n",
       "3  view,data,view,click,view,click,data,submit,-u...   \n",
       "4  data,-unknown-,-unknown-,view,data,data,data,,...   \n",
       "\n",
       "                                       action_detail  \\\n",
       "0  view_search_results,dashboard,header_userpic,d...   \n",
       "1  view_search_results,p3,wishlist_content_update...   \n",
       "2  view_search_results,view_search_results,view_s...   \n",
       "3  user_profile,listing_reviews,p3,view_search_re...   \n",
       "4  user_social_connections,-unknown-,-unknown-,us...   \n",
       "\n",
       "                        device_type  secs_elapsed  \n",
       "0                Mac Desktop,iPhone      867896.0  \n",
       "1                       Mac Desktop      586543.0  \n",
       "2  Android App Unknown Phone/Tablet      282965.0  \n",
       "3           -unknown-,Android Phone      297010.0  \n",
       "4                  -unknown-,iPhone     6487080.0  "
      ]
     },
     "execution_count": 22,
     "metadata": {},
     "output_type": "execute_result"
    }
   ],
   "source": [
    "sessions.head()"
   ]
  },
  {
   "cell_type": "markdown",
   "id": "87a4b518",
   "metadata": {
    "papermill": {
     "duration": 0.010577,
     "end_time": "2025-04-13T20:17:31.167150",
     "exception": false,
     "start_time": "2025-04-13T20:17:31.156573",
     "status": "completed"
    },
    "tags": []
   },
   "source": [
    "# Encoding:"
   ]
  },
  {
   "cell_type": "code",
   "execution_count": 23,
   "id": "6f8f36a4",
   "metadata": {
    "execution": {
     "iopub.execute_input": "2025-04-13T20:17:31.189980Z",
     "iopub.status.busy": "2025-04-13T20:17:31.189578Z",
     "iopub.status.idle": "2025-04-13T20:17:31.541046Z",
     "shell.execute_reply": "2025-04-13T20:17:31.539946Z"
    },
    "papermill": {
     "duration": 0.365224,
     "end_time": "2025-04-13T20:17:31.543114",
     "exception": false,
     "start_time": "2025-04-13T20:17:31.177890",
     "status": "completed"
    },
    "tags": []
   },
   "outputs": [],
   "source": [
    "X_df_train, X_df_val, y_train, y_val = train_test_split(df_train.drop(columns=['country_destination']), df_train['country_destination'],\n",
    "                                                        test_size=0.2, random_state=42, stratify=df_train['country_destination'])"
   ]
  },
  {
   "cell_type": "markdown",
   "id": "29d7d09e",
   "metadata": {
    "papermill": {
     "duration": 0.01228,
     "end_time": "2025-04-13T20:17:31.567090",
     "exception": false,
     "start_time": "2025-04-13T20:17:31.554810",
     "status": "completed"
    },
    "tags": []
   },
   "source": [
    "## Merging With Sessions:"
   ]
  },
  {
   "cell_type": "code",
   "execution_count": 24,
   "id": "ee995265",
   "metadata": {
    "execution": {
     "iopub.execute_input": "2025-04-13T20:17:31.591773Z",
     "iopub.status.busy": "2025-04-13T20:17:31.591391Z",
     "iopub.status.idle": "2025-04-13T20:17:32.190127Z",
     "shell.execute_reply": "2025-04-13T20:17:32.189051Z"
    },
    "papermill": {
     "duration": 0.61247,
     "end_time": "2025-04-13T20:17:32.192019",
     "exception": false,
     "start_time": "2025-04-13T20:17:31.579549",
     "status": "completed"
    },
    "tags": []
   },
   "outputs": [],
   "source": [
    "X_df_train = X_df_train.merge(sessions, left_on='id', right_on='user_id', how='left')\n",
    "X_df_val = X_df_val.merge(sessions, left_on='id', right_on='user_id', how='left')\n",
    "df_test = df_test.merge(sessions, left_on='id', right_on='user_id', how='left')"
   ]
  },
  {
   "cell_type": "markdown",
   "id": "07b2c72d",
   "metadata": {
    "papermill": {
     "duration": 0.010538,
     "end_time": "2025-04-13T20:17:32.213713",
     "exception": false,
     "start_time": "2025-04-13T20:17:32.203175",
     "status": "completed"
    },
    "tags": []
   },
   "source": [
    "## Age:"
   ]
  },
  {
   "cell_type": "code",
   "execution_count": 25,
   "id": "ae5684b8",
   "metadata": {
    "execution": {
     "iopub.execute_input": "2025-04-13T20:17:32.236876Z",
     "iopub.status.busy": "2025-04-13T20:17:32.236524Z",
     "iopub.status.idle": "2025-04-13T20:17:32.263109Z",
     "shell.execute_reply": "2025-04-13T20:17:32.262098Z"
    },
    "papermill": {
     "duration": 0.040494,
     "end_time": "2025-04-13T20:17:32.265165",
     "exception": false,
     "start_time": "2025-04-13T20:17:32.224671",
     "status": "completed"
    },
    "tags": []
   },
   "outputs": [],
   "source": [
    "X_df_train.loc[(X_df_train['age'] >= 100) | (X_df_train['age'] <= 15), 'age'] = np.median(X_df_train['age'].dropna())\n",
    "X_df_val.loc[(X_df_val['age'] >= 100) | (X_df_val['age'] <= 15), 'age'] = np.median(X_df_val['age'].dropna())\n",
    "df_test.loc[(df_test['age'] >= 100) | (df_test['age'] <= 15), 'age'] = np.median(df_train['age'].dropna())"
   ]
  },
  {
   "cell_type": "code",
   "execution_count": 26,
   "id": "2fda1b89",
   "metadata": {
    "execution": {
     "iopub.execute_input": "2025-04-13T20:17:32.288382Z",
     "iopub.status.busy": "2025-04-13T20:17:32.287990Z",
     "iopub.status.idle": "2025-04-13T20:17:32.295306Z",
     "shell.execute_reply": "2025-04-13T20:17:32.294061Z"
    },
    "papermill": {
     "duration": 0.020913,
     "end_time": "2025-04-13T20:17:32.297203",
     "exception": false,
     "start_time": "2025-04-13T20:17:32.276290",
     "status": "completed"
    },
    "tags": []
   },
   "outputs": [],
   "source": [
    "def age_binning(age):\n",
    "    if 18 < age <= 20:\n",
    "        return '18 - 20'\n",
    "    elif 20 < age <= 25:\n",
    "        return '20 - 25'\n",
    "    elif 25 < age <= 30:\n",
    "        return '25 - 30'\n",
    "    elif 30 < age <= 35:\n",
    "        return '30 - 35'\n",
    "    elif 35 < age <= 40:\n",
    "        return '35 - 40'\n",
    "    elif 40 < age <= 45:\n",
    "        return '40 - 45'\n",
    "    elif 45 < age <= 50:\n",
    "        return '45 - 50'\n",
    "    elif 50 < age <= 55:\n",
    "        return '50 - 55'\n",
    "    elif 55 < age <= 60:\n",
    "        return '55 - 60'\n",
    "    elif 60 < age <= 65:\n",
    "        return '60 - 65'\n",
    "    elif 65 < age <= 70:\n",
    "        return '65 - 70'\n",
    "    elif 70 < age <= 75:\n",
    "        return '70 - 75'\n",
    "    elif 75 < age <= 80:\n",
    "        return '75 - 80'\n",
    "    elif 80 < age <= 85:\n",
    "        return '80 - 85'\n",
    "    elif 85 < age <= 90:\n",
    "        return '85 - 90'\n",
    "    elif 90 < age <= 95:\n",
    "        return '90 - 95'\n",
    "    elif 95 < age <= 100:\n",
    "        return '95 - 100'\n",
    "    else:\n",
    "        return np.nan\n"
   ]
  },
  {
   "cell_type": "code",
   "execution_count": 27,
   "id": "f1e6a645",
   "metadata": {
    "execution": {
     "iopub.execute_input": "2025-04-13T20:17:32.322525Z",
     "iopub.status.busy": "2025-04-13T20:17:32.322128Z",
     "iopub.status.idle": "2025-04-13T20:17:32.536160Z",
     "shell.execute_reply": "2025-04-13T20:17:32.534917Z"
    },
    "papermill": {
     "duration": 0.229364,
     "end_time": "2025-04-13T20:17:32.538230",
     "exception": false,
     "start_time": "2025-04-13T20:17:32.308866",
     "status": "completed"
    },
    "tags": []
   },
   "outputs": [],
   "source": [
    "df_train['member_age_bins'] = df_train['age'].apply(age_binning)\n",
    "df_test['member_age_bins'] = df_test['age'].apply(age_binning)"
   ]
  },
  {
   "cell_type": "code",
   "execution_count": 28,
   "id": "e3f52880",
   "metadata": {
    "execution": {
     "iopub.execute_input": "2025-04-13T20:17:32.563379Z",
     "iopub.status.busy": "2025-04-13T20:17:32.562971Z",
     "iopub.status.idle": "2025-04-13T20:17:32.738110Z",
     "shell.execute_reply": "2025-04-13T20:17:32.736209Z"
    },
    "papermill": {
     "duration": 0.190849,
     "end_time": "2025-04-13T20:17:32.740334",
     "exception": false,
     "start_time": "2025-04-13T20:17:32.549485",
     "status": "completed"
    },
    "tags": []
   },
   "outputs": [
    {
     "data": {
      "text/plain": [
       "id                                    0\n",
       "gender                                0\n",
       "age                               70383\n",
       "signup_method                         0\n",
       "signup_flow                           0\n",
       "language                              0\n",
       "affiliate_channel                     0\n",
       "affiliate_provider                    0\n",
       "first_affiliate_tracked            4793\n",
       "signup_app                            0\n",
       "first_device_type                     0\n",
       "first_browser                         0\n",
       "dac_year                              0\n",
       "dac_month                             0\n",
       "dac_day                               0\n",
       "timestamp_first_active_year           0\n",
       "timestamp_first_active_month          0\n",
       "timestamp_first_active_day            0\n",
       "timestamp_first_active_hour           0\n",
       "timestamp_first_active_minute         0\n",
       "timestamp_first_active_second         0\n",
       "user_id                          111798\n",
       "action                           111798\n",
       "action_type                      111798\n",
       "action_detail                    111798\n",
       "device_type                      111798\n",
       "secs_elapsed                     111798\n",
       "dtype: int64"
      ]
     },
     "execution_count": 28,
     "metadata": {},
     "output_type": "execute_result"
    }
   ],
   "source": [
    "X_df_train.isna().sum()"
   ]
  },
  {
   "cell_type": "code",
   "execution_count": 29,
   "id": "cca318e5",
   "metadata": {
    "execution": {
     "iopub.execute_input": "2025-04-13T20:17:32.765741Z",
     "iopub.status.busy": "2025-04-13T20:17:32.765337Z",
     "iopub.status.idle": "2025-04-13T20:17:32.816786Z",
     "shell.execute_reply": "2025-04-13T20:17:32.815008Z"
    },
    "papermill": {
     "duration": 0.066498,
     "end_time": "2025-04-13T20:17:32.818632",
     "exception": false,
     "start_time": "2025-04-13T20:17:32.752134",
     "status": "completed"
    },
    "tags": []
   },
   "outputs": [
    {
     "data": {
      "text/plain": [
       "id                                   0\n",
       "gender                               0\n",
       "age                              17607\n",
       "signup_method                        0\n",
       "signup_flow                          0\n",
       "language                             0\n",
       "affiliate_channel                    0\n",
       "affiliate_provider                   0\n",
       "first_affiliate_tracked           1272\n",
       "signup_app                           0\n",
       "first_device_type                    0\n",
       "first_browser                        0\n",
       "dac_year                             0\n",
       "dac_month                            0\n",
       "dac_day                              0\n",
       "timestamp_first_active_year          0\n",
       "timestamp_first_active_month         0\n",
       "timestamp_first_active_day           0\n",
       "timestamp_first_active_hour          0\n",
       "timestamp_first_active_minute        0\n",
       "timestamp_first_active_second        0\n",
       "user_id                          27838\n",
       "action                           27838\n",
       "action_type                      27838\n",
       "action_detail                    27838\n",
       "device_type                      27838\n",
       "secs_elapsed                     27838\n",
       "dtype: int64"
      ]
     },
     "execution_count": 29,
     "metadata": {},
     "output_type": "execute_result"
    }
   ],
   "source": [
    "X_df_val.isna().sum()"
   ]
  },
  {
   "cell_type": "markdown",
   "id": "6e957a3f",
   "metadata": {
    "papermill": {
     "duration": 0.01134,
     "end_time": "2025-04-13T20:17:32.841326",
     "exception": false,
     "start_time": "2025-04-13T20:17:32.829986",
     "status": "completed"
    },
    "tags": []
   },
   "source": [
    "## Missing Strings:"
   ]
  },
  {
   "cell_type": "code",
   "execution_count": 30,
   "id": "d579e39d",
   "metadata": {
    "execution": {
     "iopub.execute_input": "2025-04-13T20:17:32.866640Z",
     "iopub.status.busy": "2025-04-13T20:17:32.866257Z",
     "iopub.status.idle": "2025-04-13T20:17:32.871877Z",
     "shell.execute_reply": "2025-04-13T20:17:32.870348Z"
    },
    "papermill": {
     "duration": 0.020976,
     "end_time": "2025-04-13T20:17:32.873792",
     "exception": false,
     "start_time": "2025-04-13T20:17:32.852816",
     "status": "completed"
    },
    "tags": []
   },
   "outputs": [],
   "source": [
    "def fill_missing_values(X_df_train, X_df_val, df_test, text_columns, numeric_column):\n",
    "    \"\"\"\n",
    "    Fills missing values in text columns with 'na' and in a numeric column with 0.\n",
    "\n",
    "    Args:\n",
    "        X_df_train (pd.DataFrame): Training dataframe.\n",
    "        X_df_val (pd.DataFrame): Validation dataframe.\n",
    "        df_test (pd.DataFrame): Test dataframe.\n",
    "        text_columns (list): List of text column names to fill with 'na'.\n",
    "        numeric_column (str): Name of numeric column to fill with 0.\n",
    "\n",
    "    Returns:\n",
    "        tuple: Transformed versions of (X_df_train, X_df_val, df_test)\n",
    "    \"\"\"\n",
    "    for df in [X_df_train, X_df_val, df_test]:\n",
    "        df[text_columns] = df[text_columns].fillna(\"na\")\n",
    "        df[numeric_column] = df[numeric_column].fillna(0)\n",
    "    \n",
    "    return X_df_train, X_df_val, df_test"
   ]
  },
  {
   "cell_type": "code",
   "execution_count": 31,
   "id": "5e454d00",
   "metadata": {
    "execution": {
     "iopub.execute_input": "2025-04-13T20:17:32.902038Z",
     "iopub.status.busy": "2025-04-13T20:17:32.901708Z",
     "iopub.status.idle": "2025-04-13T20:17:32.906288Z",
     "shell.execute_reply": "2025-04-13T20:17:32.905060Z"
    },
    "papermill": {
     "duration": 0.020275,
     "end_time": "2025-04-13T20:17:32.908086",
     "exception": false,
     "start_time": "2025-04-13T20:17:32.887811",
     "status": "completed"
    },
    "tags": []
   },
   "outputs": [],
   "source": [
    "def tokens(x):\n",
    "    return x.split(',')"
   ]
  },
  {
   "cell_type": "code",
   "execution_count": 32,
   "id": "57ac4a2b",
   "metadata": {
    "execution": {
     "iopub.execute_input": "2025-04-13T20:17:32.932750Z",
     "iopub.status.busy": "2025-04-13T20:17:32.932378Z",
     "iopub.status.idle": "2025-04-13T20:17:32.941843Z",
     "shell.execute_reply": "2025-04-13T20:17:32.940322Z"
    },
    "papermill": {
     "duration": 0.024117,
     "end_time": "2025-04-13T20:17:32.943871",
     "exception": false,
     "start_time": "2025-04-13T20:17:32.919754",
     "status": "completed"
    },
    "tags": []
   },
   "outputs": [],
   "source": [
    "def fit_transform_tfidf(X_df_train, X_df_val, df_test, columns):\n",
    "    \"\"\"\n",
    "    Fits a TF-IDF vectorizer on selected text columns of X_df_train and transforms X_df_val & df_test.\n",
    "    Adds transformed features to the original dataframes and removes the original text columns.\n",
    "\n",
    "    Args:\n",
    "        X_df_train (pd.DataFrame): Training dataframe.\n",
    "        X_df_val (pd.DataFrame): Validation dataframe.\n",
    "        df_test (pd.DataFrame): Test dataframe.\n",
    "        columns (list): List of text column names to apply TF-IDF.\n",
    "\n",
    "    Returns:\n",
    "        tuple: Transformed versions of (X_df_train, X_df_val, df_test)\n",
    "    \"\"\"\n",
    "    vectorizers = {}  # Store vectorizers for each column\n",
    "    transformed_data = {'train': [], 'val': [], 'test': []}\n",
    "\n",
    "    for col in columns:\n",
    "        vectorizer = TfidfVectorizer(min_df= 10, max_features = 5000, tokenizer = tokens)\n",
    "        X_train_tfidf = vectorizer.fit_transform(X_df_train[col].astype(str))  # Fit on training data\n",
    "        X_val_tfidf = vectorizer.transform(X_df_val[col].astype(str))  # Transform validation data\n",
    "        X_test_tfidf = vectorizer.transform(df_test[col].astype(str))  # Transform test data\n",
    "\n",
    "        vectorizers[col] = vectorizer\n",
    "        transformed_data['train'].append(X_train_tfidf)\n",
    "        transformed_data['val'].append(X_val_tfidf)\n",
    "        transformed_data['test'].append(X_test_tfidf)\n",
    "\n",
    "    # Stack transformed columns horizontally\n",
    "    X_train_tfidf = hstack(transformed_data['train'])\n",
    "    X_val_tfidf = hstack(transformed_data['val'])\n",
    "    X_test_tfidf = hstack(transformed_data['test'])\n",
    "\n",
    "    # Convert sparse matrices to DataFrame\n",
    "    train_tfidf_df = pd.DataFrame(X_train_tfidf.toarray(), index=X_df_train.index)\n",
    "    val_tfidf_df = pd.DataFrame(X_val_tfidf.toarray(), index=X_df_val.index)\n",
    "    test_tfidf_df = pd.DataFrame(X_test_tfidf.toarray(), index=df_test.index)\n",
    "\n",
    "    # Concatenate new TF-IDF features with original dataframe (excluding original text columns)\n",
    "    X_df_train = pd.concat([X_df_train.drop(columns, axis=1), train_tfidf_df], axis=1)\n",
    "    X_df_val = pd.concat([X_df_val.drop(columns, axis=1), val_tfidf_df], axis=1)\n",
    "    df_test = pd.concat([df_test.drop(columns, axis=1), test_tfidf_df], axis=1)\n",
    "\n",
    "    return X_df_train, X_df_val, df_test\n"
   ]
  },
  {
   "cell_type": "code",
   "execution_count": 33,
   "id": "6ea1e8a9",
   "metadata": {
    "execution": {
     "iopub.execute_input": "2025-04-13T20:17:32.977254Z",
     "iopub.status.busy": "2025-04-13T20:17:32.976799Z",
     "iopub.status.idle": "2025-04-13T20:17:49.662102Z",
     "shell.execute_reply": "2025-04-13T20:17:49.660833Z"
    },
    "papermill": {
     "duration": 16.706489,
     "end_time": "2025-04-13T20:17:49.664325",
     "exception": false,
     "start_time": "2025-04-13T20:17:32.957836",
     "status": "completed"
    },
    "tags": []
   },
   "outputs": [],
   "source": [
    "columns_to_vectorize = ['action', 'action_type', 'action_detail']\n",
    "X_df_train, X_df_val, df_test = fit_transform_tfidf(X_df_train, X_df_val, df_test, columns_to_vectorize)"
   ]
  },
  {
   "cell_type": "code",
   "execution_count": 34,
   "id": "cd333dd3",
   "metadata": {
    "execution": {
     "iopub.execute_input": "2025-04-13T20:17:49.748731Z",
     "iopub.status.busy": "2025-04-13T20:17:49.748373Z",
     "iopub.status.idle": "2025-04-13T20:17:49.753432Z",
     "shell.execute_reply": "2025-04-13T20:17:49.752311Z"
    },
    "papermill": {
     "duration": 0.079125,
     "end_time": "2025-04-13T20:17:49.755349",
     "exception": false,
     "start_time": "2025-04-13T20:17:49.676224",
     "status": "completed"
    },
    "tags": []
   },
   "outputs": [],
   "source": [
    "#Keeping ID\n",
    "train_id = X_df_train['id']\n",
    "val_id = X_df_val['id']\n",
    "test_id = df_test['id']"
   ]
  },
  {
   "cell_type": "code",
   "execution_count": 35,
   "id": "9579537f",
   "metadata": {
    "execution": {
     "iopub.execute_input": "2025-04-13T20:17:49.779788Z",
     "iopub.status.busy": "2025-04-13T20:17:49.779450Z",
     "iopub.status.idle": "2025-04-13T20:17:50.128109Z",
     "shell.execute_reply": "2025-04-13T20:17:50.127034Z"
    },
    "papermill": {
     "duration": 0.363099,
     "end_time": "2025-04-13T20:17:50.130115",
     "exception": false,
     "start_time": "2025-04-13T20:17:49.767016",
     "status": "completed"
    },
    "tags": []
   },
   "outputs": [],
   "source": [
    "X_train = X_df_train.drop(columns=['id', 'user_id'], inplace=False)\n",
    "X_val = X_df_val.drop(columns=['id', 'user_id'], inplace=False)\n",
    "X_test = df_test.drop(columns=['id', 'user_id'], inplace=False)"
   ]
  },
  {
   "cell_type": "code",
   "execution_count": 36,
   "id": "ce88caa2",
   "metadata": {
    "execution": {
     "iopub.execute_input": "2025-04-13T20:17:50.154599Z",
     "iopub.status.busy": "2025-04-13T20:17:50.154242Z",
     "iopub.status.idle": "2025-04-13T20:17:50.163409Z",
     "shell.execute_reply": "2025-04-13T20:17:50.162266Z"
    },
    "papermill": {
     "duration": 0.023357,
     "end_time": "2025-04-13T20:17:50.165144",
     "exception": false,
     "start_time": "2025-04-13T20:17:50.141787",
     "status": "completed"
    },
    "tags": []
   },
   "outputs": [],
   "source": [
    "def encode_categorical_features(X_train, X_val, X_test, cat_cols):\n",
    "    \"\"\"\n",
    "    Encodes categorical features using One-Hot Encoding (OHE) for low-cardinality features\n",
    "    and Label Encoding for high-cardinality features.\n",
    "\n",
    "    Parameters:\n",
    "        X_train (DataFrame): Training data\n",
    "        X_val (DataFrame): Validation data\n",
    "        X_test (DataFrame): Test data\n",
    "        cat_cols (list): List of categorical column names\n",
    "\n",
    "    Returns:\n",
    "        X_train, X_val, X_test (DataFrame): Transformed datasets\n",
    "        label_encoders (dict): Dictionary of label encoders for high-cardinality features\n",
    "    \"\"\"\n",
    "\n",
    "    # Ensure categorical columns exist in all datasets\n",
    "    cat_cols = [col for col in cat_cols if col in X_train.columns]\n",
    "\n",
    "    # Separate columns based on the number of unique categories\n",
    "    one_hot_cols = [col for col in cat_cols if X_train[col].nunique() < 5]\n",
    "    label_encode_cols = [col for col in cat_cols if X_train[col].nunique() >= 5]\n",
    "\n",
    "    # One-Hot Encoding for low-cardinality features\n",
    "    if one_hot_cols:\n",
    "        ohe = OneHotEncoder(handle_unknown='ignore', sparse=False)\n",
    "        X_train_ohe = pd.DataFrame(ohe.fit_transform(X_train[one_hot_cols]), \n",
    "                                   columns=ohe.get_feature_names_out(one_hot_cols))\n",
    "        X_val_ohe = pd.DataFrame(ohe.transform(X_val[one_hot_cols]), \n",
    "                                 columns=ohe.get_feature_names_out(one_hot_cols))\n",
    "        X_test_ohe = pd.DataFrame(ohe.transform(X_test[one_hot_cols]), \n",
    "                                  columns=ohe.get_feature_names_out(one_hot_cols))\n",
    "        # Drop original categorical columns and merge OHE results\n",
    "        X_train = X_train.drop(columns=one_hot_cols, errors='ignore').reset_index(drop=True).join(X_train_ohe)\n",
    "        X_val = X_val.drop(columns=one_hot_cols, errors='ignore').reset_index(drop=True).join(X_val_ohe)\n",
    "        X_test = X_test.drop(columns=one_hot_cols, errors='ignore').reset_index(drop=True).join(X_test_ohe)\n",
    "\n",
    "    # Label Encoding for high-cardinality features\n",
    "    label_encoders = {}\n",
    "    for col in label_encode_cols:\n",
    "        le = LabelEncoder()\n",
    "        X_train[col] = le.fit_transform(X_train[col].astype(str))\n",
    "        X_val[col] = X_val[col].map(lambda x: le.transform([x])[0] if x in le.classes_ else -1)\n",
    "        X_test[col] = X_test[col].map(lambda x: le.transform([x])[0] if x in le.classes_ else -1)\n",
    "        label_encoders[col] = le  # Store encoder for inverse transform if needed\n",
    "\n",
    "    return X_train, X_val, X_test, label_encoders\n"
   ]
  },
  {
   "cell_type": "code",
   "execution_count": 37,
   "id": "ce28073b",
   "metadata": {
    "execution": {
     "iopub.execute_input": "2025-04-13T20:17:50.189583Z",
     "iopub.status.busy": "2025-04-13T20:17:50.189166Z",
     "iopub.status.idle": "2025-04-13T20:18:48.957128Z",
     "shell.execute_reply": "2025-04-13T20:18:48.956000Z"
    },
    "papermill": {
     "duration": 58.782627,
     "end_time": "2025-04-13T20:18:48.959372",
     "exception": false,
     "start_time": "2025-04-13T20:17:50.176745",
     "status": "completed"
    },
    "tags": []
   },
   "outputs": [],
   "source": [
    "cat_cols = ['gender', 'signup_method', 'language', 'affiliate_channel', \n",
    "            'affiliate_provider', 'first_affiliate_tracked', 'signup_app', \n",
    "            'first_device_type', 'first_browser', 'member_age_bins', 'device_type',]\n",
    "\n",
    "# Encode categorical features for all datasets\n",
    "X_train, X_val, X_test, label_encoders = encode_categorical_features(X_train, X_val, X_test, cat_cols)\n"
   ]
  },
  {
   "cell_type": "markdown",
   "id": "ef844b2c",
   "metadata": {
    "papermill": {
     "duration": 0.012194,
     "end_time": "2025-04-13T20:18:48.985026",
     "exception": false,
     "start_time": "2025-04-13T20:18:48.972832",
     "status": "completed"
    },
    "tags": []
   },
   "source": [
    "### Imbalance"
   ]
  },
  {
   "cell_type": "code",
   "execution_count": 38,
   "id": "8b3903d1",
   "metadata": {
    "execution": {
     "iopub.execute_input": "2025-04-13T20:18:49.009829Z",
     "iopub.status.busy": "2025-04-13T20:18:49.009470Z",
     "iopub.status.idle": "2025-04-13T20:18:49.441786Z",
     "shell.execute_reply": "2025-04-13T20:18:49.440487Z"
    },
    "papermill": {
     "duration": 0.446974,
     "end_time": "2025-04-13T20:18:49.443802",
     "exception": false,
     "start_time": "2025-04-13T20:18:48.996828",
     "status": "completed"
    },
    "tags": []
   },
   "outputs": [
    {
     "data": {
      "image/png": "[encoded data removed]",
      "text/plain": [
       "<Figure size 640x480 with 1 Axes>"
      ]
     },
     "metadata": {},
     "output_type": "display_data"
    }
   ],
   "source": [
    "# Plot the distribution of the target variable\n",
    "sns.countplot(x=y_train)\n",
    "plt.title('Class Distribution in y_train')\n",
    "plt.xlabel('Class')\n",
    "plt.ylabel('Count')\n",
    "plt.show()"
   ]
  },
  {
   "cell_type": "code",
   "execution_count": 39,
   "id": "1aef5d04",
   "metadata": {
    "execution": {
     "iopub.execute_input": "2025-04-13T20:18:49.471476Z",
     "iopub.status.busy": "2025-04-13T20:18:49.471050Z",
     "iopub.status.idle": "2025-04-13T20:18:49.506369Z",
     "shell.execute_reply": "2025-04-13T20:18:49.505166Z"
    },
    "papermill": {
     "duration": 0.0513,
     "end_time": "2025-04-13T20:18:49.508301",
     "exception": false,
     "start_time": "2025-04-13T20:18:49.457001",
     "status": "completed"
    },
    "tags": []
   },
   "outputs": [
    {
     "name": "stdout",
     "output_type": "stream",
     "text": [
      "country_destination\n",
      "NDF      58.347388\n",
      "US       29.222886\n",
      "other     4.728859\n",
      "FR        2.353010\n",
      "IT        1.328180\n",
      "GB        1.088662\n",
      "ES        1.053525\n",
      "CA        0.668775\n",
      "DE        0.497189\n",
      "NL        0.357227\n",
      "AU        0.252401\n",
      "PT        0.101897\n",
      "Name: proportion, dtype: float64\n"
     ]
    }
   ],
   "source": [
    "class_distribution = y_train.value_counts()\n",
    "\n",
    "# Get the proportion of each class\n",
    "class_proportions = y_train.value_counts(normalize=True)*100\n",
    "print(class_proportions)"
   ]
  },
  {
   "cell_type": "code",
   "execution_count": 40,
   "id": "5cefcf09",
   "metadata": {
    "execution": {
     "iopub.execute_input": "2025-04-13T20:18:49.535269Z",
     "iopub.status.busy": "2025-04-13T20:18:49.534858Z",
     "iopub.status.idle": "2025-04-13T20:18:49.584501Z",
     "shell.execute_reply": "2025-04-13T20:18:49.583293Z"
    },
    "papermill": {
     "duration": 0.065468,
     "end_time": "2025-04-13T20:18:49.586505",
     "exception": false,
     "start_time": "2025-04-13T20:18:49.521037",
     "status": "completed"
    },
    "tags": []
   },
   "outputs": [
    {
     "name": "stdout",
     "output_type": "stream",
     "text": [
      "Encoded y_train: [7 7 7 7 6]\n"
     ]
    }
   ],
   "source": [
    "label_encoder = LabelEncoder()\n",
    "y_train_encoded = label_encoder.fit_transform(y_train)\n",
    "y_val_encoded = label_encoder.transform(y_val)\n",
    "\n",
    "print(\"Encoded y_train:\", y_val_encoded[:5])"
   ]
  },
  {
   "cell_type": "code",
   "execution_count": 41,
   "id": "f6c35ce1",
   "metadata": {
    "execution": {
     "iopub.execute_input": "2025-04-13T20:18:49.613973Z",
     "iopub.status.busy": "2025-04-13T20:18:49.613588Z",
     "iopub.status.idle": "2025-04-13T20:18:49.683072Z",
     "shell.execute_reply": "2025-04-13T20:18:49.682055Z"
    },
    "papermill": {
     "duration": 0.085822,
     "end_time": "2025-04-13T20:18:49.685092",
     "exception": false,
     "start_time": "2025-04-13T20:18:49.599270",
     "status": "completed"
    },
    "tags": []
   },
   "outputs": [],
   "source": [
    "X_test.drop(['member_age_bins'], axis = 1, inplace = True)"
   ]
  },
  {
   "cell_type": "markdown",
   "id": "3c2cc1d6",
   "metadata": {
    "papermill": {
     "duration": 0.012795,
     "end_time": "2025-04-13T20:18:49.710941",
     "exception": false,
     "start_time": "2025-04-13T20:18:49.698146",
     "status": "completed"
    },
    "tags": []
   },
   "source": [
    "# Model:"
   ]
  },
  {
   "cell_type": "code",
   "execution_count": 42,
   "id": "8fce74c7",
   "metadata": {
    "execution": {
     "iopub.execute_input": "2025-04-13T20:18:49.737748Z",
     "iopub.status.busy": "2025-04-13T20:18:49.737396Z",
     "iopub.status.idle": "2025-04-13T20:19:34.697388Z",
     "shell.execute_reply": "2025-04-13T20:19:34.696491Z"
    },
    "papermill": {
     "duration": 44.975377,
     "end_time": "2025-04-13T20:19:34.699636",
     "exception": false,
     "start_time": "2025-04-13T20:18:49.724259",
     "status": "completed"
    },
    "tags": []
   },
   "outputs": [],
   "source": [
    "xgb = XGBClassifier(base_score=0.5, booster=None, colsample_bylevel=1,\n",
    "              colsample_bynode=1, colsample_bytree=0.5, gamma=0, gpu_id=-1,\n",
    "              importance_type='gain', interaction_constraints=None,\n",
    "              learning_rate=0.3, max_delta_step=0, max_depth=6,\n",
    "              min_child_weight=1, missing=np.nan, monotone_constraints=None,\n",
    "              n_estimators=25, n_jobs=0, num_parallel_tree=1,\n",
    "              objective='multi:softprob', random_state=0, reg_alpha=0,\n",
    "              reg_lambda=1, scale_pos_weight=None, seed=0, subsample=0.5,\n",
    "              tree_method=None, validate_parameters=False, verbosity=None)\n",
    "\n",
    "xgb.fit(X_train, y_train_encoded)\n",
    "\n",
    "y_pred = xgb.predict_proba(X_test)\n"
   ]
  },
  {
   "cell_type": "code",
   "execution_count": 43,
   "id": "98eaa870",
   "metadata": {
    "execution": {
     "iopub.execute_input": "2025-04-13T20:19:34.726704Z",
     "iopub.status.busy": "2025-04-13T20:19:34.726355Z",
     "iopub.status.idle": "2025-04-13T20:19:36.236956Z",
     "shell.execute_reply": "2025-04-13T20:19:36.236099Z"
    },
    "papermill": {
     "duration": 1.52648,
     "end_time": "2025-04-13T20:19:36.239137",
     "exception": false,
     "start_time": "2025-04-13T20:19:34.712657",
     "status": "completed"
    },
    "tags": []
   },
   "outputs": [],
   "source": [
    "y_pred_train = xgb.predict_proba(X_train)\n",
    "y_pred_val = xgb.predict_proba(X_val)"
   ]
  },
  {
   "cell_type": "code",
   "execution_count": 44,
   "id": "aa737bb2",
   "metadata": {
    "execution": {
     "iopub.execute_input": "2025-04-13T20:19:36.266122Z",
     "iopub.status.busy": "2025-04-13T20:19:36.265773Z",
     "iopub.status.idle": "2025-04-13T20:19:36.270313Z",
     "shell.execute_reply": "2025-04-13T20:19:36.269307Z"
    },
    "papermill": {
     "duration": 0.019827,
     "end_time": "2025-04-13T20:19:36.272135",
     "exception": false,
     "start_time": "2025-04-13T20:19:36.252308",
     "status": "completed"
    },
    "tags": []
   },
   "outputs": [],
   "source": [
    "def compute_ndcg(y_true, y_pred, k=5):\n",
    "    \"\"\"\n",
    "    Computes the NDCG@k score for multi-class classification.\n",
    "\n",
    "    Parameters:\n",
    "        y_true (array-like): Ground truth labels, must be encoded as integers.\n",
    "        y_pred (array-like): Predicted probabilities (output of predict_proba).\n",
    "        k (int): The number of top predictions to consider for NDCG calculation.\n",
    "    \n",
    "    Returns:\n",
    "        float: The NDCG@k score.\n",
    "    \"\"\"\n",
    "    # Convert y_true to binary indicator format\n",
    "    label_binarizer = LabelBinarizer()\n",
    "    y_true_binarized = label_binarizer.fit_transform(y_true)\n",
    "\n",
    "    # Compute NDCG@k\n",
    "    ndcg_score_value = ndcg_score(y_true_binarized, y_pred, k=k)\n",
    "\n",
    "    return ndcg_score_value"
   ]
  },
  {
   "cell_type": "code",
   "execution_count": 45,
   "id": "0ee9f687",
   "metadata": {
    "execution": {
     "iopub.execute_input": "2025-04-13T20:19:36.298447Z",
     "iopub.status.busy": "2025-04-13T20:19:36.298042Z",
     "iopub.status.idle": "2025-04-13T20:19:48.943511Z",
     "shell.execute_reply": "2025-04-13T20:19:48.942101Z"
    },
    "papermill": {
     "duration": 12.660728,
     "end_time": "2025-04-13T20:19:48.945560",
     "exception": false,
     "start_time": "2025-04-13T20:19:36.284832",
     "status": "completed"
    },
    "tags": []
   },
   "outputs": [
    {
     "name": "stdout",
     "output_type": "stream",
     "text": [
      "NDCG@5 Score on Training Data: 0.8399\n",
      "NDCG@5 Score on Val Data: 0.8316\n"
     ]
    }
   ],
   "source": [
    "ndcg_train_score = compute_ndcg(y_train_encoded, y_pred_train, k=5)\n",
    "print(f\"NDCG@5 Score on Training Data: {ndcg_train_score:.4f}\")\n",
    "\n",
    "ndcg_val_score = compute_ndcg(y_val_encoded, y_pred_val, k=5)\n",
    "print(f\"NDCG@5 Score on Val Data: {ndcg_val_score:.4f}\")"
   ]
  },
  {
   "cell_type": "markdown",
   "id": "08711d81",
   "metadata": {
    "papermill": {
     "duration": 0.012882,
     "end_time": "2025-04-13T20:19:48.971451",
     "exception": false,
     "start_time": "2025-04-13T20:19:48.958569",
     "status": "completed"
    },
    "tags": []
   },
   "source": [
    "# Submission:"
   ]
  },
  {
   "cell_type": "code",
   "execution_count": 46,
   "id": "a3e5cbac",
   "metadata": {
    "execution": {
     "iopub.execute_input": "2025-04-13T20:19:48.999020Z",
     "iopub.status.busy": "2025-04-13T20:19:48.998657Z",
     "iopub.status.idle": "2025-04-13T20:19:57.046563Z",
     "shell.execute_reply": "2025-04-13T20:19:57.045330Z"
    },
    "papermill": {
     "duration": 8.064535,
     "end_time": "2025-04-13T20:19:57.048987",
     "exception": false,
     "start_time": "2025-04-13T20:19:48.984452",
     "status": "completed"
    },
    "tags": []
   },
   "outputs": [],
   "source": [
    "ids = []\n",
    "cts = []\n",
    "for i in range(len(test_id)):\n",
    "    idx = test_id[i]\n",
    "    ids += [idx] * 5\n",
    "    cts += label_encoder.inverse_transform(np.argsort(y_pred[i])[::-1])[:5].tolist()\n",
    "\n",
    "sub = pd.DataFrame(np.column_stack((ids, cts)), columns=['id', 'country'])\n",
    "sub.to_csv('submission.csv',index=False)"
   ]
  }
 ],
 "metadata": {
  "kaggle": {
   "accelerator": "none",
   "dataSources": [
    {
     "databundleVersionId": 35131,
     "sourceId": 4651,
     "sourceType": "competition"
    }
   ],
   "dockerImageVersionId": 30918,
   "isGpuEnabled": false,
   "isInternetEnabled": true,
   "language": "python",
   "sourceType": "notebook"
  },
  "kernelspec": {
   "display_name": "Python 3",
   "language": "python",
   "name": "python3"
  },
  "language_info": {
   "codemirror_mode": {
    "name": "ipython",
    "version": 3
   },
   "file_extension": ".py",
   "mimetype": "text/x-python",
   "name": "python",
   "nbconvert_exporter": "python",
   "pygments_lexer": "ipython3",
   "version": "3.10.12"
  },
  "papermill": {
   "default_parameters": {},
   "duration": 239.978205,
   "end_time": "2025-04-13T20:19:58.085326",
   "environment_variables": {},
   "exception": null,
   "input_path": "__notebook__.ipynb",
   "output_path": "__notebook__.ipynb",
   "parameters": {},
   "start_time": "2025-04-13T20:15:58.107121",
   "version": "2.6.0"
  }
 },
 "nbformat": 4,
 "nbformat_minor": 5
}
